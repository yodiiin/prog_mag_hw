{
 "cells": [
  {
   "cell_type": "markdown",
   "id": "6703f5f8-f71b-483e-89cf-4ffd1e5e6ec0",
   "metadata": {},
   "source": [
    "## Задание 1.\n",
    "\n",
    "Пользователь вводит набор целых чисел через пробелы. Посчитайте сумму из получившегося набора, выведите минимальное и максимальное число. "
   ]
  },
  {
   "cell_type": "code",
   "execution_count": 2,
   "id": "02d8cfd2-eae4-47f7-baf0-bf00476bd7d4",
   "metadata": {
    "tags": []
   },
   "outputs": [
    {
     "name": "stdout",
     "output_type": "stream",
     "text": [
      "Введите целые числа через пробел: 2 49 7 4 0 -183\n",
      "Сумма чисел: -121\n",
      "Минимальное число: -183\n",
      "Максимальное число: 49\n"
     ]
    }
   ],
   "source": [
    "numbers = [int(x) for x in input('Введите целые числа через пробел: ').split()]\n",
    "print(f'Сумма чисел: {sum(numbers)}\\nМинимальное число: {min(numbers)}\\nМаксимальное число: {max(numbers)}')"
   ]
  },
  {
   "cell_type": "markdown",
   "id": "09e63457-6749-4bfb-a303-c882324644d7",
   "metadata": {},
   "source": [
    "## Задание 2. \n",
    "\n",
    "Создайте список из чисел от 1 до 10. Вставьте после тройки число 30. Сделайте это двумя способами. "
   ]
  },
  {
   "cell_type": "code",
   "execution_count": 8,
   "id": "8e696754-d285-4ea6-b958-ea205d80502e",
   "metadata": {},
   "outputs": [
    {
     "data": {
      "text/plain": [
       "[1, 2, 3, 30, 4, 5, 6, 7, 8, 9, 10]"
      ]
     },
     "execution_count": 8,
     "metadata": {},
     "output_type": "execute_result"
    }
   ],
   "source": [
    "lst = list(range(1, 11))\n",
    "lst[3:3] = [30]\n",
    "lst"
   ]
  },
  {
   "cell_type": "code",
   "execution_count": 10,
   "id": "93cf7662",
   "metadata": {},
   "outputs": [
    {
     "data": {
      "text/plain": [
       "[1, 2, 3, 30, 4, 5, 6, 7, 8, 9, 10]"
      ]
     },
     "execution_count": 10,
     "metadata": {},
     "output_type": "execute_result"
    }
   ],
   "source": [
    "lst = list(range(1, 11))\n",
    "lst.insert(3, 30)\n",
    "lst"
   ]
  },
  {
   "cell_type": "markdown",
   "id": "027a3593-c6d2-4159-a5ba-bdc51cd71aba",
   "metadata": {},
   "source": [
    "## Задание 3. \n",
    "\n",
    "Дан список, в котором есть повторяющиеся элементы, в т.ч. элемент Х (н-р, какое-то число). Нужно удалить из списка все вхождения элемента Х. "
   ]
  },
  {
   "cell_type": "code",
   "execution_count": 12,
   "id": "36db551f-a3fb-4c0d-a0aa-31b2d23387f4",
   "metadata": {},
   "outputs": [
    {
     "name": "stdout",
     "output_type": "stream",
     "text": [
      "Введите что-то через пробел: мама мыла раму а я мыла окно\n",
      "Какой повторяющися элемент будем удалять: мыла\n",
      "мама раму а я окно\n"
     ]
    }
   ],
   "source": [
    "lst = input('Введите что-то через пробел: ').split()\n",
    "x = input('Какой повторяющися элемент будем удалять: ')\n",
    "\n",
    "lst = [elem for elem in lst if elem != x]\n",
    "print(*lst)"
   ]
  },
  {
   "cell_type": "markdown",
   "id": "55f5eced-64da-460a-b8e4-8f2a66241942",
   "metadata": {},
   "source": [
    "## Задание 4.\n",
    "\n",
    "Пользователь вводит строчку из слов, разделенных пробелами. Отсортируйте слова в алфавитном порядке задом наперед (т.е., яблоко будет первее юлы) и выведите их столбиком (каждое слово на новой строчке)."
   ]
  },
  {
   "cell_type": "code",
   "execution_count": 14,
   "id": "e6ab9489-b559-4053-8892-72b65da659fe",
   "metadata": {},
   "outputs": [
    {
     "name": "stdout",
     "output_type": "stream",
     "text": [
      "Введите слова через пробел: каждый охотник желает знать где сидит фазан\n",
      "Отсортированный список:\n",
      "фазан\n",
      "сидит\n",
      "охотник\n",
      "каждый\n",
      "знать\n",
      "желает\n",
      "где\n"
     ]
    }
   ],
   "source": [
    "words = input('Введите слова через пробел: ').split()\n",
    "sorted_words = sorted(words, reverse=True)\n",
    "\n",
    "print('Отсортированный список:')\n",
    "for word in sorted_words:\n",
    "    print(word)"
   ]
  },
  {
   "cell_type": "markdown",
   "id": "5d2e081b-2fe0-4f85-9548-42fb61af4f77",
   "metadata": {},
   "source": [
    "## Задание 5.\n",
    "\n",
    "Напишите функцию, которая вычисляет степень числа (аналогичную оператору \\*\\*, только сам оператор, разумеется, использовать нельзя). "
   ]
  },
  {
   "cell_type": "code",
   "execution_count": 17,
   "id": "6bef021b-13bf-4876-b6c3-321c3d1a8d4b",
   "metadata": {},
   "outputs": [],
   "source": [
    "def raise_to_power(n, exp):\n",
    "    result = 1\n",
    "    \n",
    "    if exp < 0:\n",
    "        n = 1 / n\n",
    "        exp = -exp\n",
    "    \n",
    "    for _ in range(exp):\n",
    "        result *= n\n",
    "    \n",
    "    return result"
   ]
  },
  {
   "cell_type": "code",
   "execution_count": 20,
   "id": "ed89fa1c",
   "metadata": {},
   "outputs": [
    {
     "name": "stdout",
     "output_type": "stream",
     "text": [
      "0.2\n",
      "1024\n"
     ]
    }
   ],
   "source": [
    "print(raise_to_power(5, -1))\n",
    "print(raise_to_power(2, 10))"
   ]
  },
  {
   "cell_type": "markdown",
   "id": "8693d9ff-bacf-41d8-a766-ad80d0d3ad6f",
   "metadata": {},
   "source": [
    "## Задание 6.\n",
    "\n",
    "Напишите функцию, которая принимает неограниченное количество аргументов-чисел и выводит их квадраты. "
   ]
  },
  {
   "cell_type": "code",
   "execution_count": 27,
   "id": "eb944366-2247-4205-8ced-d804de0806d4",
   "metadata": {},
   "outputs": [],
   "source": [
    "def squares(*args: int):\n",
    "    print('Квадраты чисел:')\n",
    "    for n in args:\n",
    "        print(n ** 2)"
   ]
  },
  {
   "cell_type": "code",
   "execution_count": 28,
   "id": "0af84da9",
   "metadata": {},
   "outputs": [
    {
     "name": "stdout",
     "output_type": "stream",
     "text": [
      "Квадраты чисел:\n",
      "4\n",
      "9\n",
      "16\n",
      "25\n"
     ]
    }
   ],
   "source": [
    "squares(2, 3, 4, 5)"
   ]
  },
  {
   "cell_type": "markdown",
   "id": "448b4be8-53dd-470a-9a54-a16c4c1c3f71",
   "metadata": {},
   "source": [
    "## Задание 8. \n",
    "\n",
    "Отсортируйте список строчек в зависимости от того, сколько в каждой строке содержится букв а. (н-р, строчки \"мама\", \"арбуз\" и \"абракадабра\" должны выстроиться в \"арбуз\", \"мама\", \"абракадабра\")."
   ]
  },
  {
   "cell_type": "code",
   "execution_count": 34,
   "id": "98d5850a-3fd4-4bbe-a752-0184d2216fca",
   "metadata": {},
   "outputs": [],
   "source": [
    "def count_a(string):\n",
    "    return string.count('а') # кириллическая а"
   ]
  },
  {
   "cell_type": "code",
   "execution_count": 36,
   "id": "2e6d73b6",
   "metadata": {},
   "outputs": [
    {
     "name": "stdout",
     "output_type": "stream",
     "text": [
      "Введите слова через пробел: мама арбуз абракадабра\n",
      "Отсортированный список: арбуз мама абракадабра\n"
     ]
    }
   ],
   "source": [
    "lst = input('Введите слова через пробел: ').split()\n",
    "sorted_lst = sorted(lst, key=count_a)\n",
    "print('Отсортированный список:', *sorted_lst)"
   ]
  },
  {
   "cell_type": "markdown",
   "id": "213e07ae-9496-4eda-adc0-eaf232793645",
   "metadata": {
    "tags": []
   },
   "source": [
    "## Задание 10. \n",
    "\n",
    "Напишите рекурсивную функцию, которая будет возвращать, является ли строка палиндромом. На вход функция получает строки типа \"абба, \"абсба\" и подобные (пробелов внутри этих строк нет). "
   ]
  },
  {
   "cell_type": "code",
   "execution_count": 44,
   "id": "afbd4520",
   "metadata": {},
   "outputs": [],
   "source": [
    "def palindrome(string):\n",
    "    string = string.lower()\n",
    "    \n",
    "    if len(string) > 1:\n",
    "        return string[0] == string[-1] and palindrome(string[1:-1])\n",
    "    else: # если строка пустая или состоит из одного символа, то возвращаем ее же\n",
    "        return True"
   ]
  }
 ],
 "metadata": {
  "kernelspec": {
   "display_name": "Python 3 (ipykernel)",
   "language": "python",
   "name": "python3"
  },
  "language_info": {
   "codemirror_mode": {
    "name": "ipython",
    "version": 3
   },
   "file_extension": ".py",
   "mimetype": "text/x-python",
   "name": "python",
   "nbconvert_exporter": "python",
   "pygments_lexer": "ipython3",
   "version": "3.9.6"
  }
 },
 "nbformat": 4,
 "nbformat_minor": 5
}
