{
  "nbformat": 4,
  "nbformat_minor": 0,
  "metadata": {
    "colab": {
      "provenance": []
    },
    "kernelspec": {
      "name": "python3",
      "display_name": "Python 3"
    },
    "language_info": {
      "name": "python"
    }
  },
  "cells": [
    {
      "cell_type": "markdown",
      "source": [
        "### Задача 1"
      ],
      "metadata": {
        "id": "GvuFUQQAqkzr"
      }
    },
    {
      "cell_type": "markdown",
      "source": [
        "Ученики одной школы все знают хотя бы по одному языку. Программа получает число школьников, а потом в цикле for собирает сведения о их языках, н-р:\n",
        "\n",
        "2\n",
        "\n",
        "English Bulgarian\n",
        "\n",
        "English Romanian\n",
        "\n",
        "Нужно узнать, какие языки знает хотя бы один школьник и какие языки знают все школьники."
      ],
      "metadata": {
        "id": "3Dw3SlVnqoEL"
      }
    },
    {
      "cell_type": "code",
      "execution_count": null,
      "metadata": {
        "id": "ZSf_ZZQ-qaS-"
      },
      "outputs": [],
      "source": [
        "num_of_students = int(input('Введите число сутдентов: '))\n",
        "list_of_languages = [0] * num_of_students # создаем список, куда будем складывать языка студентов\n",
        "\n",
        "for i in range(num_of_students):\n",
        "  list_of_languages[i] = input('Введите языки, которые знает студент, через пробел: ').split() # элемент списка — студент, вложенный список — список языков, которые знает студент\n",
        "\n",
        "list_of_languages = [set(x) for x in list_of_languages] # теперь элементы списка — множества\n",
        "\n",
        "print('\\nЯзыки, которые знает хотя бы один школьник:', set.union(*list_of_languages))\n",
        "print('Языки, которые знают все школьники:', set.intersection(*list_of_languages) if set.intersection(*list_of_languages) != set() else 'никаких :(')"
      ]
    },
    {
      "cell_type": "markdown",
      "source": [
        "### Задача 2"
      ],
      "metadata": {
        "id": "GYX9mJYx45vf"
      }
    },
    {
      "cell_type": "markdown",
      "source": [
        "Напишите функцию, которая будет принимать строку, в которой содержится любой текст (положим, русскоязычный), и возвращать список, содержащий только слова (для удаления пунктуации можно воспользоваться punctuation из модуля string, если хочется). Если умеете пользоваться регулярками - можно использовать регулярки.\n",
        "\n",
        "Посчитайте частотный список слов для текста в этой строке."
      ],
      "metadata": {
        "id": "PGOsi0_7_GVo"
      }
    },
    {
      "cell_type": "code",
      "source": [
        "import string, re\n",
        "\n",
        "def list_of_words(text):\n",
        "  text = ''.join(char for char in text if char not in string.punctuation)\n",
        "  text = re.findall(r'[A-Za-z]+|[А-Яа-яЁё]+', text)\n",
        "  return text\n",
        "\n",
        "list_of_words(input('Введите текст: '))"
      ],
      "metadata": {
        "colab": {
          "base_uri": "https://localhost:8080/"
        },
        "id": "kBNnlLuc47Eh",
        "outputId": "df8a2ac0-d2e2-4afb-d57c-38f76334bce9"
      },
      "execution_count": 27,
      "outputs": [
        {
          "name": "stdout",
          "output_type": "stream",
          "text": [
            "Введите текст: Дружочки, примерно с 7 по 10 сентября в Нижнем Тагиле, новой столице Тотального диктанта, будет проходить фестиваль грамотности. По слухам, подписчики из Нижнего Тагила просили у организаторов ТД, чтобы из лекторов приехала именно я, и это очень приятно))  Ну и вот, собственно, еду я в сентябре в Тагил с лекцией. Осталось только решить, с какой) Есть у меня тут те самые подписчики, которые мою лекцию заказывали? Про что рассказать вам?))   Про лингвофриков? Про феминитивы? Про нормы какие-нибудь странные? Правда, про все это я уже не так давно в других городах рассказывала, и вы могли смотреть запись. Может, про то, как жаргонные слова становятся нейтральными и входят в лит.норму? Или у вас есть какие-нибудь ещё предложения?\n"
          ]
        },
        {
          "output_type": "execute_result",
          "data": {
            "text/plain": [
              "['Дружочки',\n",
              " 'примерно',\n",
              " 'с',\n",
              " 'по',\n",
              " 'сентября',\n",
              " 'в',\n",
              " 'Нижнем',\n",
              " 'Тагиле',\n",
              " 'новой',\n",
              " 'столице',\n",
              " 'Тотального',\n",
              " 'диктанта',\n",
              " 'будет',\n",
              " 'проходить',\n",
              " 'фестиваль',\n",
              " 'грамотности',\n",
              " 'По',\n",
              " 'слухам',\n",
              " 'подписчики',\n",
              " 'из',\n",
              " 'Нижнего',\n",
              " 'Тагила',\n",
              " 'просили',\n",
              " 'у',\n",
              " 'организаторов',\n",
              " 'ТД',\n",
              " 'чтобы',\n",
              " 'из',\n",
              " 'лекторов',\n",
              " 'приехала',\n",
              " 'именно',\n",
              " 'я',\n",
              " 'и',\n",
              " 'это',\n",
              " 'очень',\n",
              " 'приятно',\n",
              " 'Ну',\n",
              " 'и',\n",
              " 'вот',\n",
              " 'собственно',\n",
              " 'еду',\n",
              " 'я',\n",
              " 'в',\n",
              " 'сентябре',\n",
              " 'в',\n",
              " 'Тагил',\n",
              " 'с',\n",
              " 'лекцией',\n",
              " 'Осталось',\n",
              " 'только',\n",
              " 'решить',\n",
              " 'с',\n",
              " 'какой',\n",
              " 'Есть',\n",
              " 'у',\n",
              " 'меня',\n",
              " 'тут',\n",
              " 'те',\n",
              " 'самые',\n",
              " 'подписчики',\n",
              " 'которые',\n",
              " 'мою',\n",
              " 'лекцию',\n",
              " 'заказывали',\n",
              " 'Про',\n",
              " 'что',\n",
              " 'рассказать',\n",
              " 'вам',\n",
              " 'Про',\n",
              " 'лингвофриков',\n",
              " 'Про',\n",
              " 'феминитивы',\n",
              " 'Про',\n",
              " 'нормы',\n",
              " 'какиенибудь',\n",
              " 'странные',\n",
              " 'Правда',\n",
              " 'про',\n",
              " 'все',\n",
              " 'это',\n",
              " 'я',\n",
              " 'уже',\n",
              " 'не',\n",
              " 'так',\n",
              " 'давно',\n",
              " 'в',\n",
              " 'других',\n",
              " 'городах',\n",
              " 'рассказывала',\n",
              " 'и',\n",
              " 'вы',\n",
              " 'могли',\n",
              " 'смотреть',\n",
              " 'запись',\n",
              " 'Может',\n",
              " 'про',\n",
              " 'то',\n",
              " 'как',\n",
              " 'жаргонные',\n",
              " 'слова',\n",
              " 'становятся',\n",
              " 'нейтральными',\n",
              " 'и',\n",
              " 'входят',\n",
              " 'в',\n",
              " 'литнорму',\n",
              " 'Или',\n",
              " 'у',\n",
              " 'вас',\n",
              " 'есть',\n",
              " 'какиенибудь',\n",
              " 'ещё',\n",
              " 'предложения']"
            ]
          },
          "metadata": {},
          "execution_count": 27
        }
      ]
    },
    {
      "cell_type": "markdown",
      "source": [
        "### Задача 3"
      ],
      "metadata": {
        "id": "eq8POA0caefO"
      }
    },
    {
      "cell_type": "markdown",
      "source": [
        "Положим, у нас есть список со вложенными списками (глубина вложенности может быть какая угодно: это может быть список списков списков...). Напишите функцию, которая будет рекурсивно обходить все элементы в этих списках и посчитает, сколько всего встретилось уникальных элементов. Считаем, что эти элементы - целые числа (вам понадобится проверять type(x) == int)."
      ],
      "metadata": {
        "id": "xu8ZWcrFagbs"
      }
    },
    {
      "cell_type": "code",
      "source": [
        "def unique_elems(lst):\n",
        "  set_of_elems = set() # сюда заносим элементы списка и делаем из них множество\n",
        "\n",
        "  try: # try-excpet на случай, если элемент списка — неитерируемый объект (напр, float)\n",
        "    for elem in lst:\n",
        "      if type(elem) == int: # если элемент - int, просто заносим в мн-во\n",
        "        set_of_elems.add(elem)\n",
        "      else:\n",
        "        if type(elem) == str: # если элемент - str, избегаем итерирования по нему\n",
        "          continue\n",
        "        set_of_elems = set_of_elems | unique_elems(elem)\n",
        "  except TypeError:\n",
        "    pass\n",
        "\n",
        "  return set_of_elems"
      ],
      "metadata": {
        "id": "uyZhfaB9BMz8"
      },
      "execution_count": 45,
      "outputs": []
    },
    {
      "cell_type": "code",
      "source": [
        "lst = [1, 2, [3, [3, 4], 'hello', 0.2834]]\n",
        "print('Уникальные элементы списка:', unique_elems(lst))"
      ],
      "metadata": {
        "id": "tg3nO9RxAcdJ"
      },
      "execution_count": null,
      "outputs": []
    },
    {
      "cell_type": "markdown",
      "source": [
        "### Задача 4"
      ],
      "metadata": {
        "id": "YcfUEdkC4AT_"
      }
    },
    {
      "cell_type": "markdown",
      "source": [
        "Напишите функцию для сложения матриц."
      ],
      "metadata": {
        "id": "xZGhpzcs4Dio"
      }
    },
    {
      "cell_type": "code",
      "source": [
        "def matrix_sum(matrix1, matrix2):\n",
        "  result_matrix = [] # результат сложения матриц\n",
        "\n",
        "  for i in range(len(matrix1)):\n",
        "    elems_sum = []\n",
        "\n",
        "    for j in range(len(matrix1[0])):\n",
        "      elems_sum.append(matrix1[i][j] + matrix2[i][j])\n",
        "\n",
        "    result_matrix.append(elems_sum)\n",
        "  return result_matrix"
      ],
      "metadata": {
        "id": "rKHkyAKe-PJc"
      },
      "execution_count": 2,
      "outputs": []
    },
    {
      "cell_type": "code",
      "source": [
        "a = [[1, 2, 3], [4, 5, 6]]\n",
        "b = [[-1, 0, 1], [2, 3, 4]]\n",
        "\n",
        "print('Результат сложения матриц:', matrix_sum(a, b))"
      ],
      "metadata": {
        "colab": {
          "base_uri": "https://localhost:8080/"
        },
        "id": "Fy4Jc-I9jJ20",
        "outputId": "10e824ab-2c14-4fb4-f3b0-3b0ef3c50d28"
      },
      "execution_count": 3,
      "outputs": [
        {
          "output_type": "stream",
          "name": "stdout",
          "text": [
            "Результат сложения матриц: [[0, 2, 4], [6, 8, 10]]\n"
          ]
        }
      ]
    },
    {
      "cell_type": "markdown",
      "source": [
        "### Задача 5"
      ],
      "metadata": {
        "id": "9f9e3KGE-MW4"
      }
    },
    {
      "cell_type": "markdown",
      "source": [
        "Напишите функцию для умножения матриц."
      ],
      "metadata": {
        "id": "QoTtw6ly-PzA"
      }
    },
    {
      "cell_type": "code",
      "source": [
        "def matrix_multiply(matrix1, matrix2):\n",
        "  if len(matrix1) == len(matrix2[0]): # проверка на возможность умножения матриц (должно совпадать кол-во строк первой матрицы с кол-вом столбцов второй матрицы)\n",
        "    result_matrix = [] # будущая результирующая матрица\n",
        "\n",
        "    for i in range(len(matrix1)): # итерируемся по строкам результ.матрицы\n",
        "      row = [] # сюда кладем строку результирующей матрицы\n",
        "\n",
        "      for j in range(len(matrix2[0])): # итерируемся по столбцам реузльт.матрицы\n",
        "        elems_sum = 0 # сюда кладем рез-т перемножения элементов\n",
        "\n",
        "        for k in range(len(matrix1[i])): # итерируемся по элементам i-й строки\n",
        "          elems_sum += matrix1[i][k] * matrix2[k][j] # перемножаем k-й элемент 1-й матрицы с j-м элементом 2-й матрицы, рез-ты перемножения суммируем\n",
        "\n",
        "        row.append(elems_sum)\n",
        "\n",
        "      result_matrix.append(row)\n",
        "\n",
        "    return result_matrix\n",
        "  else:\n",
        "    return 'oh no... i cannot multiply them....'"
      ],
      "metadata": {
        "id": "K66Ih0b93_xT"
      },
      "execution_count": 4,
      "outputs": []
    },
    {
      "cell_type": "code",
      "source": [
        "matrix1 = [[1, 2, 3], [4, 5, 6]]\n",
        "matrix2 = [[7, 8], [9, 0], [1, 2]]\n",
        "\n",
        "print('Результат умножения матриц:', matrix_multiply(matrix1, matrix2))"
      ],
      "metadata": {
        "id": "Rcc6QQwZ2QCN"
      },
      "execution_count": null,
      "outputs": []
    },
    {
      "cell_type": "markdown",
      "source": [
        "### Задача 7"
      ],
      "metadata": {
        "id": "y_QvqNA47ElA"
      }
    },
    {
      "cell_type": "markdown",
      "source": [
        "Напишите функцию transpose(m), которая будет транспонировать матрицу."
      ],
      "metadata": {
        "id": "afT8y1cb7ITB"
      }
    },
    {
      "cell_type": "code",
      "source": [
        "def transpose(m):\n",
        "  result_matrix = [[0 for c in range(len(m))] for k in range(len(m[0]))] # создаем нулевую матрицу, которую будем заполнять элементами из введенной матрицы\n",
        "\n",
        "  for i in range(len(m)):\n",
        "    for j in range(len(m[0])):\n",
        "      result_matrix[j][i] = m[i][j]\n",
        "\n",
        "  return result_matrix"
      ],
      "metadata": {
        "id": "0WP8pPQa7DUV"
      },
      "execution_count": 43,
      "outputs": []
    },
    {
      "cell_type": "code",
      "source": [
        "# задаем матрицу\n",
        "from random import randrange\n",
        "\n",
        "x = int(input())\n",
        "y = int(input())\n",
        "m = [[randrange(1, 101) for i in range(y)] for j in range(x)]\n",
        "\n",
        "#for line in m:\n",
        "#  print(*line)"
      ],
      "metadata": {
        "id": "unb5J2257V7C"
      },
      "execution_count": null,
      "outputs": []
    },
    {
      "cell_type": "code",
      "source": [
        "transpose(m)"
      ],
      "metadata": {
        "id": "B_Z92op4-D_f"
      },
      "execution_count": null,
      "outputs": []
    }
  ]
}