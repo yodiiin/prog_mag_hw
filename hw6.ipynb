{
  "nbformat": 4,
  "nbformat_minor": 0,
  "metadata": {
    "colab": {
      "provenance": []
    },
    "kernelspec": {
      "name": "python3",
      "display_name": "Python 3"
    },
    "language_info": {
      "name": "python"
    }
  },
  "cells": [
    {
      "cell_type": "markdown",
      "source": [
        "## **Семинарские задачи**"
      ],
      "metadata": {
        "id": "bw85lR3t9lYg"
      }
    },
    {
      "cell_type": "markdown",
      "metadata": {
        "id": "vLDgqp35M42q"
      },
      "source": [
        "### Зачада 2"
      ]
    },
    {
      "cell_type": "markdown",
      "metadata": {
        "id": "uecum940M7GH"
      },
      "source": [
        "Напишите класс Linguist, у которого при создании будут повляться четыре динамических атрибута: имя, аффилиация, показатель выносливости (stamina) и список публикаций (по умолчанию пустой)."
      ]
    },
    {
      "cell_type": "code",
      "execution_count": null,
      "metadata": {
        "id": "vGfjJv8bNAry"
      },
      "outputs": [],
      "source": [
        "from time import sleep # sleep(n) - программа будет ждать n секунд"
      ]
    },
    {
      "cell_type": "code",
      "execution_count": null,
      "metadata": {
        "id": "OyVhjI5zKH44"
      },
      "outputs": [],
      "source": [
        "class Linguist:\n",
        "    def __init__(self, name, affiliation, stamina):\n",
        "      self.name = name\n",
        "      self.affiliation = affiliation\n",
        "      self.stamina = stamina\n",
        "      self.publication = []\n",
        "\n",
        "    def __str__(self):\n",
        "        return f'{self.name}, {self.affiliation}, {self.stamina}, {self.publication}'\n",
        "\n",
        "    def __repr__(self):\n",
        "        return f\"Student('{self.name}', '{self.affiliation}', {self.stamina}, {self.publication})\"\n",
        "\n",
        "    def work(self, publication):\n",
        "        '''\n",
        "        Лингвист работает над публикацией n времени (можете придумать, как вычислять его на основе названия публикации).\n",
        "        За это время он устает в k*n раз (вычитаем это из его выносливости, только следите, чтобы усталость отрицательной не сделалась).\n",
        "        '''\n",
        "        n = len(publication)\n",
        "        self.publication.append(publication)\n",
        "        if self.stamina - (n * 0.5) < 0:\n",
        "          return\n",
        "        self.stamina -= (n * 0.5)\n",
        "\n",
        "    def sleep(self, hours):\n",
        "        '''Лингвист спит n часов, восстанавливая k*n выносливости'''\n",
        "        if self.stamina + (hours * 1.5) > 100:\n",
        "          return\n",
        "        self.stamina += (hours * 1.5)\n",
        "\n",
        "    def show_publications(self):\n",
        "        '''Лингвист сообщает, какие у него появились публикации'''\n",
        "        print('Список публикаций лингвиста:', *self.publication)"
      ]
    },
    {
      "cell_type": "code",
      "execution_count": null,
      "metadata": {
        "id": "iLnKOKp7XIJ5"
      },
      "outputs": [],
      "source": [
        "petya = Linguist('Петя', 'RSUH', 100)"
      ]
    },
    {
      "cell_type": "code",
      "execution_count": null,
      "metadata": {
        "colab": {
          "base_uri": "https://localhost:8080/"
        },
        "id": "kXJqXJCd1a87",
        "outputId": "157c7e10-c6d3-445e-c522-94df8fabd91e"
      },
      "outputs": [
        {
          "output_type": "execute_result",
          "data": {
            "text/plain": [
              "86.5"
            ]
          },
          "metadata": {},
          "execution_count": 82
        }
      ],
      "source": [
        "petya.work('Морфосинтаксические парсеры')\n",
        "petya.stamina"
      ]
    },
    {
      "cell_type": "code",
      "execution_count": null,
      "metadata": {
        "colab": {
          "base_uri": "https://localhost:8080/"
        },
        "id": "yk2b4Ed97Fq8",
        "outputId": "f8c49027-52da-4b17-8dd1-aec67fd65e5f"
      },
      "outputs": [
        {
          "output_type": "execute_result",
          "data": {
            "text/plain": [
              "94.0"
            ]
          },
          "metadata": {},
          "execution_count": 83
        }
      ],
      "source": [
        "petya.sleep(5)\n",
        "petya.stamina"
      ]
    },
    {
      "cell_type": "code",
      "execution_count": null,
      "metadata": {
        "colab": {
          "base_uri": "https://localhost:8080/"
        },
        "id": "EPsGiAJU7tpi",
        "outputId": "32189d4a-af35-47f6-e691-2c8a3c6b451f"
      },
      "outputs": [
        {
          "output_type": "stream",
          "name": "stdout",
          "text": [
            "Список публикаций лингвиста: Морфосинтаксические парсеры\n"
          ]
        }
      ],
      "source": [
        "petya.show_publications()"
      ]
    },
    {
      "cell_type": "code",
      "execution_count": null,
      "metadata": {
        "colab": {
          "base_uri": "https://localhost:8080/"
        },
        "id": "8uY3dPpH8B7I",
        "outputId": "d1714950-a4ec-4051-e0f7-9dd74bf8b93b"
      },
      "outputs": [
        {
          "output_type": "stream",
          "name": "stdout",
          "text": [
            "['Морфосинтаксические парсеры']\n"
          ]
        }
      ],
      "source": [
        "print(petya.publication)"
      ]
    },
    {
      "cell_type": "markdown",
      "metadata": {
        "id": "-DvYttUq9NQi"
      },
      "source": [
        "### Зачада 3"
      ]
    },
    {
      "cell_type": "markdown",
      "metadata": {
        "id": "1DSoxiX-9NQj"
      },
      "source": [
        "Доработаем задачу 2: добавьте класс \"публикация\", чтобы у публикации была еще некоторая информация о ее объеме (и, соответственно, чтобы можно было вычислять количество времени, которое на нее нужно потратить). А у лингвиста теперь должен появиться показатель \"наработал в экспедициях\", который будет пополняться в специальном методе go_to_expedition(), и если его значение будет недостаточным для выбранной публикации, нужно об этом предупреждать и публикацию не добавлять."
      ]
    },
    {
      "cell_type": "code",
      "execution_count": null,
      "metadata": {
        "id": "OaZS0epJ9RII"
      },
      "outputs": [],
      "source": [
        "class Linguist:\n",
        "    def __init__(self, name, affiliation, stamina):\n",
        "      self.name = name\n",
        "      self.affiliation = affiliation\n",
        "      self.stamina = stamina\n",
        "      self.publications = []\n",
        "      self.expedition = 0 # добавили новый показатель - работа в экспедиции\n",
        "\n",
        "    def __str__(self):\n",
        "        return f'{self.name}, {self.affiliation}, {self.stamina}, {self.publications}'\n",
        "\n",
        "    def __repr__(self):\n",
        "        return f\"Student('{self.name}', '{self.affiliation}', {self.stamina}, {self.publications})\"\n",
        "\n",
        "    def work(self, publication):\n",
        "        if publication.data > self.expedition:\n",
        "          return f'Недостаточно материала для работы над этой публикацией :('\n",
        "        n = publication.volume / 2\n",
        "        self.publications.append(publication.name)\n",
        "        if self.stamina - (n * 0.5) < 0:\n",
        "          return\n",
        "        self.stamina -= (n * 0.5)\n",
        "\n",
        "    def sleep(self, hours):\n",
        "        self.stamina += (hours * 1.5)\n",
        "\n",
        "    def show_publications(self):\n",
        "        '''Лингвист сообщает, какие у него появились публикации'''\n",
        "        print('Список публикаций:')\n",
        "        for publication in self.publications:\n",
        "          print(publication)\n",
        "\n",
        "    def go_to_expedition(self, area, days):\n",
        "        if 'кавказ' in area.lower():\n",
        "          self.expedition += days * 0.75\n",
        "        elif 'африка' in area.lower():\n",
        "          self.expedition += days * 0.9\n",
        "        else:\n",
        "          self.expedition += days * 0.5"
      ]
    },
    {
      "cell_type": "code",
      "execution_count": null,
      "metadata": {
        "id": "9u7aSybS9dez"
      },
      "outputs": [],
      "source": [
        "class Publication:\n",
        "    def __init__(self, name, volume, data):\n",
        "        self.name = name # имя публикации\n",
        "        self.volume = volume # количество страниц\n",
        "        self.data = data # количество необходимого материала (будет в котиках)\n",
        "\n",
        "    def __str__(self):\n",
        "        return f'{self.name}, {self.volume}, {self.data}'\n",
        "\n",
        "    def __repr__(self):\n",
        "        return f\"Publication('{self.name}', {self.volume}, {self.data})\""
      ]
    },
    {
      "cell_type": "code",
      "source": [
        "petya = Linguist('Петя', 'РГГУ', 100)"
      ],
      "metadata": {
        "id": "XZ-T1QufcPL6"
      },
      "execution_count": null,
      "outputs": []
    },
    {
      "cell_type": "code",
      "source": [
        "petya.go_to_expedition('Северная Африка', 21)"
      ],
      "metadata": {
        "id": "_eTi5WP-1-x7"
      },
      "execution_count": null,
      "outputs": []
    },
    {
      "cell_type": "code",
      "source": [
        "petya.expedition"
      ],
      "metadata": {
        "colab": {
          "base_uri": "https://localhost:8080/"
        },
        "id": "ERGQfYi02J2b",
        "outputId": "73075907-8981-4531-a720-738562dae9f3"
      },
      "execution_count": null,
      "outputs": [
        {
          "output_type": "execute_result",
          "data": {
            "text/plain": [
              "18.900000000000002"
            ]
          },
          "metadata": {},
          "execution_count": 194
        }
      ]
    },
    {
      "cell_type": "code",
      "source": [
        "pblc = Publication('Морфосинтаксические парсеры', 9, 15)"
      ],
      "metadata": {
        "id": "se1zcPNe2OWL"
      },
      "execution_count": null,
      "outputs": []
    },
    {
      "cell_type": "code",
      "source": [
        "petya.work(pblc)"
      ],
      "metadata": {
        "id": "eU_cCxjW2YdQ"
      },
      "execution_count": null,
      "outputs": []
    },
    {
      "cell_type": "code",
      "source": [
        "petya.stamina"
      ],
      "metadata": {
        "colab": {
          "base_uri": "https://localhost:8080/"
        },
        "id": "fL3PI2Ng2h-U",
        "outputId": "5e318786-dc34-4d7a-9fda-284fe71d37b9"
      },
      "execution_count": null,
      "outputs": [
        {
          "output_type": "execute_result",
          "data": {
            "text/plain": [
              "97.75"
            ]
          },
          "metadata": {},
          "execution_count": 197
        }
      ]
    },
    {
      "cell_type": "code",
      "source": [
        "petya.show_publications()"
      ],
      "metadata": {
        "colab": {
          "base_uri": "https://localhost:8080/"
        },
        "id": "5ob1Cmk53L74",
        "outputId": "7ac718c3-9da6-44c4-a2c3-22c1bfe04685"
      },
      "execution_count": null,
      "outputs": [
        {
          "output_type": "stream",
          "name": "stdout",
          "text": [
            "Список публикаций:\n",
            "Морфосинтаксические парсеры\n"
          ]
        }
      ]
    },
    {
      "cell_type": "code",
      "source": [
        "petya.publications"
      ],
      "metadata": {
        "colab": {
          "base_uri": "https://localhost:8080/"
        },
        "id": "9N6E4EdX3TJ-",
        "outputId": "629fc07d-04e5-4ee1-d9af-439b3ac41c22"
      },
      "execution_count": null,
      "outputs": [
        {
          "output_type": "execute_result",
          "data": {
            "text/plain": [
              "['Морфосинтаксические парсеры']"
            ]
          },
          "metadata": {},
          "execution_count": 199
        }
      ]
    },
    {
      "cell_type": "code",
      "source": [
        "petya.sleep(7)\n",
        "petya.stamina"
      ],
      "metadata": {
        "colab": {
          "base_uri": "https://localhost:8080/"
        },
        "id": "OGtQqfO23g45",
        "outputId": "c532f265-a1fb-4679-8c58-271b1bd5ef1c"
      },
      "execution_count": null,
      "outputs": [
        {
          "output_type": "execute_result",
          "data": {
            "text/plain": [
              "108.25"
            ]
          },
          "metadata": {},
          "execution_count": 200
        }
      ]
    },
    {
      "cell_type": "code",
      "source": [
        "publc1 = Publication('Видовременные формы русских глаголов', 25, 100)"
      ],
      "metadata": {
        "id": "Jd2vbdzQ8jlf"
      },
      "execution_count": null,
      "outputs": []
    },
    {
      "cell_type": "code",
      "source": [
        "petya.work(publc1)"
      ],
      "metadata": {
        "colab": {
          "base_uri": "https://localhost:8080/",
          "height": 36
        },
        "id": "Zhvrj_uc9GPw",
        "outputId": "28a6b258-070f-4dbe-8513-a042b4b49afc"
      },
      "execution_count": null,
      "outputs": [
        {
          "output_type": "execute_result",
          "data": {
            "text/plain": [
              "'Недостаточно материала для работы над этой публикацией :('"
            ],
            "application/vnd.google.colaboratory.intrinsic+json": {
              "type": "string"
            }
          },
          "metadata": {},
          "execution_count": 205
        }
      ]
    },
    {
      "cell_type": "markdown",
      "source": [
        "## **Домашние задачи**"
      ],
      "metadata": {
        "id": "Q4EH6Aty94dl"
      }
    },
    {
      "cell_type": "markdown",
      "source": [
        "### Задача 2"
      ],
      "metadata": {
        "id": "e6v20uLpB26N"
      }
    },
    {
      "cell_type": "markdown",
      "source": [
        "Смоделируйте сценарий заказа еды в макдаке, определив четыре класса:\n",
        "\n",
        "**Lunch** - класс, который управляет всем событием; **Customer** - человек, который покупает блюдо; **Employee** - продавец; **Food** - сама еда"
      ],
      "metadata": {
        "id": "H54-2noHB5HS"
      }
    },
    {
      "cell_type": "code",
      "source": [
        "class Lunch:\n",
        "    def __init__(self): # создает экземпляры покупателя и продавца\n",
        "      self.customer = Customer() # экземпляр класса покупателя\n",
        "      self.employee = Employee() # экземляр класса продавца\n",
        "\n",
        "    def order(self, foodName): # начинает процесс заказа продавцом\n",
        "      self.customer.placeOrder(foodName, self.employee) # обращение к классу покупателя и вызов метода размещения заказа\n",
        "\n",
        "    def result(self): # запрашивает у покупателя, какой у него экземпляр еды\n",
        "       self.customer.printFood() # обращаемся к методу вывода еды в классе покупателя\n",
        "\n",
        "\n",
        "class Customer: # инициализирует еду у покупателя значением None (у покупателя сперва нет еды, он ее еще не купил)\n",
        "    def __init__(self):\n",
        "       self.food = None # здесь задаем переменную\n",
        "\n",
        "    def placeOrder(self, foodName, employee): # размещает заказ с экземпляром продавца, который обслуживает\n",
        "      self.food = employee.takeOrder(foodName) # обращаемся к классу продавца и вызываем метод вывода еды\n",
        "\n",
        "    def printFood(self): # выводит название блюда\n",
        "        print(\"Покупатель получил заказ:\", self.food.name)\n",
        "\n",
        "\n",
        "class Employee:\n",
        "    def takeOrder(self, foodName): # возвращает экземпляр еды с запрошенным названием\n",
        "      return Food(foodName)\n",
        "\n",
        "\n",
        "class Food:\n",
        "  def __init__(self, name): # хранит название еды\n",
        "    self.name = name"
      ],
      "metadata": {
        "id": "p-kkgrGrB4ip"
      },
      "execution_count": 10,
      "outputs": []
    },
    {
      "cell_type": "code",
      "source": [
        "lunch = Lunch()"
      ],
      "metadata": {
        "id": "TJZOlSiGF4M1"
      },
      "execution_count": 11,
      "outputs": []
    },
    {
      "cell_type": "code",
      "source": [
        "lunch.order('чизубргер')"
      ],
      "metadata": {
        "id": "trhCnlQqGjmv"
      },
      "execution_count": 12,
      "outputs": []
    },
    {
      "cell_type": "code",
      "source": [
        "lunch.result()"
      ],
      "metadata": {
        "colab": {
          "base_uri": "https://localhost:8080/"
        },
        "id": "PLVQESke_Ens",
        "outputId": "b535eb71-63b9-4cc4-eb32-2123b02ad864"
      },
      "execution_count": 13,
      "outputs": [
        {
          "output_type": "stream",
          "name": "stdout",
          "text": [
            "Покупатель получил заказ: чизубргер\n"
          ]
        }
      ]
    },
    {
      "cell_type": "code",
      "source": [],
      "metadata": {
        "id": "kwL9KGEN_LjO"
      },
      "execution_count": null,
      "outputs": []
    }
  ]
}