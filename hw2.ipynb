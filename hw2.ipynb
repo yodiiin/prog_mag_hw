{
  "nbformat": 4,
  "nbformat_minor": 0,
  "metadata": {
    "colab": {
      "provenance": []
    },
    "kernelspec": {
      "name": "python3",
      "display_name": "Python 3"
    },
    "language_info": {
      "name": "python"
    }
  },
  "cells": [
    {
      "cell_type": "markdown",
      "source": [
        "### Задача 1"
      ],
      "metadata": {
        "id": "W0L_rygXZ-yl"
      }
    },
    {
      "cell_type": "code",
      "execution_count": null,
      "metadata": {
        "id": "NOaijKTPXGBw"
      },
      "outputs": [],
      "source": [
        "n = 0 # сюда складываем число итераций, т.е. кол-во введенных чисел\n",
        "s = 0 # сумма введенных чисел\n",
        "s_sqr = 0 # суммы квадратов чисел\n",
        "num = int(input('Введите число: '))\n",
        "\n",
        "while num != 0:\n",
        "  n += 1\n",
        "  s += num\n",
        "  s_sqr += num ** 2\n",
        "  num = int(input('Введите следующее число: '))\n",
        "\n",
        "print(f'Стандартное отклонение равняется {((s_sqr - s ** 2 / n) / (n - 1)) ** 0.5}')"
      ]
    },
    {
      "cell_type": "markdown",
      "source": [
        "#### Задача 2"
      ],
      "metadata": {
        "id": "hq6ApE3xPlkh"
      }
    },
    {
      "cell_type": "code",
      "source": [
        "num = int(input('Введите целое число: '))\n",
        "\n",
        "while num != 0:\n",
        "  if (num % 100) // 10 != 1 and num % 10 == 1:\n",
        "    print(f'{num} кролик')\n",
        "  elif (num % 100) // 10 != 1 and num % 10 in range(2, 5):\n",
        "    print(f'{num} кролика')\n",
        "  else:\n",
        "    print(f'{num} кроликов')\n",
        "  num = int(input('Введите целое число: '))\n",
        "\n",
        "print('Цикл закончен!')\n"
      ],
      "metadata": {
        "id": "2LSczaDx3j8w"
      },
      "execution_count": null,
      "outputs": []
    },
    {
      "cell_type": "markdown",
      "source": [
        "#### Задача 3"
      ],
      "metadata": {
        "id": "OvPLNvHNWz-p"
      }
    },
    {
      "cell_type": "code",
      "source": [
        "numbers = input('Введите целые числа через пробел: ').split()\n",
        "max = 0 # сюда кладем наибольшее число на момент итерации и обновляем его\n",
        "\n",
        "for num in numbers:\n",
        "  if int(num) > max:\n",
        "    max = int(num)\n",
        "\n",
        "print(f'Самое большое число: {max}')"
      ],
      "metadata": {
        "id": "oaH9-ga_U0IA"
      },
      "execution_count": null,
      "outputs": []
    },
    {
      "cell_type": "markdown",
      "source": [
        "### Задача 4"
      ],
      "metadata": {
        "id": "cWE1sJA545ZD"
      }
    },
    {
      "cell_type": "code",
      "source": [
        "while True:\n",
        "  s = input('Введите что-нибудь: ')\n",
        "  if s.isdigit() == True:\n",
        "    print(f'Это число! Вот оно в квадрате: {int(s) ** 2}')\n",
        "  elif s.isalpha() == True:\n",
        "    print(f'Это слово! Вот оно капсом: {s.upper()}')\n",
        "  elif s.isspace() == True:\n",
        "    break\n",
        "  else:\n",
        "    s = input('Введите что-нибудь: ')\n",
        "print('Ну-у-у, пробелы не годятся...')"
      ],
      "metadata": {
        "id": "iAPD8-jC476W"
      },
      "execution_count": null,
      "outputs": []
    },
    {
      "cell_type": "markdown",
      "source": [
        "### Задача 5"
      ],
      "metadata": {
        "id": "4vQLvcQaAasV"
      }
    },
    {
      "cell_type": "markdown",
      "source": [
        "Если отгадывать число по способу бинарного поиска, то всегда за 10 попыток можно будет угадать (log_2 1023 = 9.9999)"
      ],
      "metadata": {
        "id": "SYWbAe0FSaTI"
      }
    },
    {
      "cell_type": "code",
      "source": [
        "from random import randint\n",
        "\n",
        "\n",
        "i = 0 # для количества попыток (итераций)\n",
        "num = randint(1, 1023)\n",
        "s = int(input('Я загадал число от 1 до 1023. Попробуй угадать его за 10 попыток!\\nВведи число: '))\n",
        "\n",
        "while i <= 10:\n",
        "    if s == num:\n",
        "        print(f'Поздравляю! Это действительно {num}.')\n",
        "        break\n",
        "    elif s not in range(1, 1024):\n",
        "        s = int(input(('Это число не входит в диапазон!\\nВведи число: ')))\n",
        "    else:\n",
        "        i += 1\n",
        "        if s > num:\n",
        "          print('Меньше!')\n",
        "        elif s < num:\n",
        "          print('Больше!')\n",
        "        if i == 10:\n",
        "            s1 = input(('К сожалению, использованы все 10 попыток... Сыграем еще раз? Введи \"да\" или \"нет\": '))\n",
        "            if s1.lower() == 'да':\n",
        "                num = randint(1, 1023)\n",
        "                i = 0\n",
        "                s = int(input('Введи число: '))\n",
        "            else:\n",
        "                print('Ладно, как-нибудь в следующий раз!')\n",
        "                break\n",
        "        else:\n",
        "            s = int(input('Введи число: '))"
      ],
      "metadata": {
        "id": "OEPExvPl0DfQ"
      },
      "execution_count": null,
      "outputs": []
    },
    {
      "cell_type": "markdown",
      "source": [
        "### Задача 6"
      ],
      "metadata": {
        "id": "_4kqoL0aWNha"
      }
    },
    {
      "cell_type": "code",
      "source": [
        "brackets = input('Каковы ваши скобки? Введите последовательность скобок: ')\n",
        "i = 0 # индекс для первой половины скобок\n",
        "j = -1 # индексы для второй половины скобок с конца\n",
        "brackets_order = True\n",
        "\n",
        "if brackets[0] in [']', ')', '}'] or len(brackets) % 2 != 0:\n",
        "  brackets_order = False\n",
        "else:\n",
        "  while i != len(brackets) / 2:\n",
        "    if brackets[i] == '[' and brackets[j] == ']' or brackets[i] == '(' and brackets[j] == ')' or brackets[i] == '{' and brackets[j] == '}':\n",
        "      i += 1\n",
        "      j -= 1\n",
        "    else:\n",
        "      brackets_order = False\n",
        "      break\n",
        "\n",
        "print(f'Верна ли последовательность ваших скобок? {brackets_order}')"
      ],
      "metadata": {
        "id": "CTOw8jcscE6x"
      },
      "execution_count": null,
      "outputs": []
    },
    {
      "cell_type": "code",
      "source": [
        "# [(]) - False\n",
        "# )[]( - False\n",
        "# {[()]} - True\n",
        "# ()[]{} - True\n",
        "\n",
        "brackets = input('Каковы ваши скобки? Введите последовательность скобок: ')\n",
        "empty_brackets = True\n",
        "\n",
        "for i in range(len(brackets) // 2):\n",
        "  if '[]' in brackets:\n",
        "    brackets = brackets.replace('[]', '') # заменяем пустой строкой, т.е. удаляем\n",
        "  elif '()' in brackets:\n",
        "    brackets = brackets.replace('()', '')\n",
        "  elif '{}' in brackets:\n",
        "    brackets = brackets.replace('{}', '')\n",
        "\n",
        "if brackets != '':\n",
        "  empty_brackets = False\n",
        "print(f'Верна ли последовательность ваших скобок? {empty_brackets}')"
      ],
      "metadata": {
        "id": "7TAG-Y9XiHF3"
      },
      "execution_count": null,
      "outputs": []
    },
    {
      "cell_type": "markdown",
      "source": [
        "### Задача 7"
      ],
      "metadata": {
        "id": "ks7W1RLGmHxw"
      }
    },
    {
      "cell_type": "code",
      "source": [
        "russian_alphabet = 'АБВГДЕЖЗИКЛМНОПРСТУФХЦЧШЩЪЫЬЭЮЯабвгдежзиклмнопрстуфхцчшщъыьэюяЁё'\n",
        "print('Порядкове номера для кириллицы:')\n",
        "for alpha in russian_alphabet:\n",
        "  print(f'{alpha} {ord(alpha)}')\n",
        "\n",
        "latin_alphabet = 'ABCDEFGHIJKLMNOPQRSTUVWXYZabcdefghijklmnopqrstuvwxyz'\n",
        "print('Порядкове номера для латиницы:')\n",
        "for alpha in latin_alphabet:\n",
        "  print(f'{alpha} {ord(alpha)}')"
      ],
      "metadata": {
        "colab": {
          "base_uri": "https://localhost:8080/"
        },
        "id": "oolswQi8mHlk",
        "outputId": "27c30032-ee36-465b-eb7e-c93c59922639"
      },
      "execution_count": null,
      "outputs": [
        {
          "output_type": "stream",
          "name": "stdout",
          "text": [
            "Порядкове номера для кириллицы:\n",
            "А 1040\n",
            "Б 1041\n",
            "В 1042\n",
            "Г 1043\n",
            "Д 1044\n",
            "Е 1045\n",
            "Ж 1046\n",
            "З 1047\n",
            "И 1048\n",
            "К 1050\n",
            "Л 1051\n",
            "М 1052\n",
            "Н 1053\n",
            "О 1054\n",
            "П 1055\n",
            "Р 1056\n",
            "С 1057\n",
            "Т 1058\n",
            "У 1059\n",
            "Ф 1060\n",
            "Х 1061\n",
            "Ц 1062\n",
            "Ч 1063\n",
            "Ш 1064\n",
            "Щ 1065\n",
            "Ъ 1066\n",
            "Ы 1067\n",
            "Ь 1068\n",
            "Э 1069\n",
            "Ю 1070\n",
            "Я 1071\n",
            "а 1072\n",
            "б 1073\n",
            "в 1074\n",
            "г 1075\n",
            "д 1076\n",
            "е 1077\n",
            "ж 1078\n",
            "з 1079\n",
            "и 1080\n",
            "к 1082\n",
            "л 1083\n",
            "м 1084\n",
            "н 1085\n",
            "о 1086\n",
            "п 1087\n",
            "р 1088\n",
            "с 1089\n",
            "т 1090\n",
            "у 1091\n",
            "ф 1092\n",
            "х 1093\n",
            "ц 1094\n",
            "ч 1095\n",
            "ш 1096\n",
            "щ 1097\n",
            "ъ 1098\n",
            "ы 1099\n",
            "ь 1100\n",
            "э 1101\n",
            "ю 1102\n",
            "я 1103\n",
            "Ё 1025\n",
            "ё 1105\n",
            "Порядкове номера для латиницы:\n",
            "A 65\n",
            "B 66\n",
            "C 67\n",
            "D 68\n",
            "E 69\n",
            "F 70\n",
            "G 71\n",
            "H 72\n",
            "I 73\n",
            "J 74\n",
            "K 75\n",
            "L 76\n",
            "M 77\n",
            "N 78\n",
            "O 79\n",
            "P 80\n",
            "Q 81\n",
            "R 82\n",
            "S 83\n",
            "T 84\n",
            "U 85\n",
            "V 86\n",
            "W 87\n",
            "X 88\n",
            "Y 89\n",
            "Z 90\n",
            "a 97\n",
            "b 98\n",
            "c 99\n",
            "d 100\n",
            "e 101\n",
            "f 102\n",
            "g 103\n",
            "h 104\n",
            "i 105\n",
            "j 106\n",
            "k 107\n",
            "l 108\n",
            "m 109\n",
            "n 110\n",
            "o 111\n",
            "p 112\n",
            "q 113\n",
            "r 114\n",
            "s 115\n",
            "t 116\n",
            "u 117\n",
            "v 118\n",
            "w 119\n",
            "x 120\n",
            "y 121\n",
            "z 122\n"
          ]
        }
      ]
    },
    {
      "cell_type": "code",
      "source": [
        "print(chr(1104)) # символ кириллицы между 'я' и 'ё'"
      ],
      "metadata": {
        "colab": {
          "base_uri": "https://localhost:8080/"
        },
        "id": "PbDPSjjmtVgb",
        "outputId": "5f3735f9-bd3d-45b4-e4fe-3620c7ee966b"
      },
      "execution_count": null,
      "outputs": [
        {
          "output_type": "stream",
          "name": "stdout",
          "text": [
            "ѐ\n"
          ]
        }
      ]
    },
    {
      "cell_type": "code",
      "source": [
        "for i in range(1025, 1040): # символы кириллицы между 'Ё' и 'А'\n",
        "  print(chr(i))"
      ],
      "metadata": {
        "colab": {
          "base_uri": "https://localhost:8080/"
        },
        "id": "AVyn78Uttah8",
        "outputId": "88e17f11-e6cb-4091-b22b-258cc8a69752"
      },
      "execution_count": null,
      "outputs": [
        {
          "output_type": "stream",
          "name": "stdout",
          "text": [
            "Ё\n",
            "Ђ\n",
            "Ѓ\n",
            "Є\n",
            "Ѕ\n",
            "І\n",
            "Ї\n",
            "Ј\n",
            "Љ\n",
            "Њ\n",
            "Ћ\n",
            "Ќ\n",
            "Ѝ\n",
            "Ў\n",
            "Џ\n"
          ]
        }
      ]
    },
    {
      "cell_type": "code",
      "source": [
        "for i in range(91, 97): # символы латиницы между 'Z' и 'a'\n",
        "  print(chr(i))"
      ],
      "metadata": {
        "colab": {
          "base_uri": "https://localhost:8080/"
        },
        "id": "aEXB0sLruYtY",
        "outputId": "60c5ae4a-183d-47e7-fd65-eb5e398bb0aa"
      },
      "execution_count": null,
      "outputs": [
        {
          "output_type": "stream",
          "name": "stdout",
          "text": [
            "[\n",
            "\\\n",
            "]\n",
            "^\n",
            "_\n",
            "`\n"
          ]
        }
      ]
    },
    {
      "cell_type": "markdown",
      "source": [
        "### Задача 8"
      ],
      "metadata": {
        "id": "EpRCNa-_1V_z"
      }
    },
    {
      "cell_type": "code",
      "source": [
        "alphabet = \"абвгдеёжзийклмнопрстуфхцчшщъыьэюя\"\n",
        "message = input('Введите зашифрованную фразу: ').lower()\n",
        "n = len(alphabet)\n",
        "print('\\nВот варианты исходной фразы:')\n",
        "\n",
        "for i in range(1, n + 1): # т.к. сдвиг неизвестен, перебираем вариант сдвига от 1 до 32\n",
        "    decrypted = '' # результат дешифровки\n",
        "    for char in message: # итерируемся по букве введенной фразы\n",
        "        if char.isalpha() == False: # если символ не буквенный, вносим в рез-т символ без измненений\n",
        "          decrypted += char\n",
        "        else:\n",
        "          decrypted += alphabet[(alphabet.index(char) + i) % n]\n",
        "          \"\"\"Нужно определить, какую букву заносим в рез-т дешифровки при сдвиге i.\n",
        "          Находим индекс буквы из фразы в алфавите, прибавляем i (сдвиг).\n",
        "          Почти все, но нужно учесть случай, когда сдвиг выйдет за диапазон алфавита.\n",
        "          Тогда в качестве индекса дешифрованной буквы берем остаток от деления.\"\"\"\n",
        "    print(f'  {i}: {decrypted}')"
      ],
      "metadata": {
        "colab": {
          "base_uri": "https://localhost:8080/"
        },
        "id": "0gQeby3PAcu1",
        "outputId": "4b4697c2-10d4-4196-a2e4-936236101b91"
      },
      "execution_count": 7,
      "outputs": [
        {
          "output_type": "stream",
          "name": "stdout",
          "text": [
            "Введите зашифрованную фразу: Нкпедкуфкмв - швткшв пвхм\n",
            "\n",
            "Вот варианты исходной фразы:\n",
            "  1: олрёелфхлнг - щгулщг ргцн\n",
            "  2: пмсжёмхцмод - ъдфмъд сдчо\n",
            "  3: рнтзжнцчнпе - ыехные тешп\n",
            "  4: соуизочшорё - ьёцоьё уёщр\n",
            "  5: тпфйипшщпсж - эжчпэж фжъс\n",
            "  6: урхкйрщъртз - юзшрюз хзыт\n",
            "  7: фсцлксъысуи - яищсяи циьу\n",
            "  8: хтчмлтыьтфй - айътай чйэф\n",
            "  9: цушнмуьэухк - бкыубк шкюх\n",
            "  10: чфщонфэюфцл - вльфвл щляц\n",
            "  11: шхъпохюяхчм - гмэхгм ъмач\n",
            "  12: щцырпцяацшн - днюцдн ынбш\n",
            "  13: ъчьсрчабчщо - еоячео ьовщ\n",
            "  14: ышэтсшбвшъп - ёпашёп эпгъ\n",
            "  15: ьщюутщвгщыр - жрбщжр юрды\n",
            "  16: эъяфуъгдъьс - зсвъзс ясеь\n",
            "  17: юыахфыдеыэт - итгыит атёэ\n",
            "  18: яьбцхьеёьюу - йудьйу бужю\n",
            "  19: аэвчцэёжэяф - кфеэкф вфзя\n",
            "  20: бюгшчюжзюах - лхёюлх гхиа\n",
            "  21: вядщшязиябц - мцжямц дцйб\n",
            "  22: гаеъщаийавч - нчзанч ечкв\n",
            "  23: дбёыъбйкбгш - ошибош ёшлг\n",
            "  24: евжьывклвдщ - пщйвпщ жщмд\n",
            "  25: ёгзэьглмгеъ - ръкгръ зъне\n",
            "  26: ждиюэдмндёы - сылдсы иыоё\n",
            "  27: зейяюеноежь - тьметь йьпж\n",
            "  28: иёкаяёопёзэ - уэнёуэ кэрз\n",
            "  29: йжлбажпржию - фюожфю люси\n",
            "  30: кзмвбзрсзйя - хяпзхя мятй\n",
            "  31: лингвистика - царица наук\n",
            "  32: мйодгйтуйлб - чбсйчб обфл\n",
            "  33: нкпедкуфкмв - швткшв пвхм\n"
          ]
        }
      ]
    }
  ]
}