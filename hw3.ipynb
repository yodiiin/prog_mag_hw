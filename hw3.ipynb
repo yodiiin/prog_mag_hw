{
  "nbformat": 4,
  "nbformat_minor": 0,
  "metadata": {
    "colab": {
      "provenance": []
    },
    "kernelspec": {
      "name": "python3",
      "display_name": "Python 3"
    },
    "language_info": {
      "name": "python"
    }
  },
  "cells": [
    {
      "cell_type": "markdown",
      "source": [
        "### Задача 1"
      ],
      "metadata": {
        "id": "A4QmJs4LmI-i"
      }
    },
    {
      "cell_type": "markdown",
      "source": [
        "Вводится список чисел через пробел. Поменяйте в этом списке самое маленькое и самое большое число местами, н-р, список 4 2 6 3 7 5 должен превратиться в 4 7 6 3 2 5"
      ],
      "metadata": {
        "id": "nzsQJki5mMx2"
      }
    },
    {
      "cell_type": "code",
      "execution_count": null,
      "metadata": {
        "id": "IEXoVHtDmBf6"
      },
      "outputs": [],
      "source": [
        "lst = [int(x) for x in input('Введите числа через пробел: ').split()]\n",
        "max_index, min_index = lst.index(max(lst)), lst.index(min(lst))\n",
        "lst[max_index], lst[min_index] = lst[min_index], lst[max_index]\n",
        "print('Обновленный список:', *lst)"
      ]
    },
    {
      "cell_type": "markdown",
      "source": [
        "### Задача 2"
      ],
      "metadata": {
        "id": "lRHY7-x7rEXz"
      }
    },
    {
      "cell_type": "markdown",
      "source": [
        "Вводится список (чего угодно, как угодно). Нужно все элементы поменять местами, н-р, список вида 1 2 3 4 5 превращается в 2 1 4 3 5."
      ],
      "metadata": {
        "id": "OGZZFhusrG6u"
      }
    },
    {
      "cell_type": "code",
      "source": [
        "lst = input('Введите что угодно через пробел: ').split()\n",
        "for i in range(1, len(lst), 2):\n",
        "  lst[i], lst[i - 1] = lst[i - 1], lst[i]\n",
        "\n",
        "print('Вот измененный список:', *lst)"
      ],
      "metadata": {
        "colab": {
          "base_uri": "https://localhost:8080/"
        },
        "id": "tOEV3FglnN_j",
        "outputId": "7407a57a-31a5-4914-c501-d15bbac11745"
      },
      "execution_count": 1,
      "outputs": [
        {
          "output_type": "stream",
          "name": "stdout",
          "text": [
            "Введите что угодно через пробел: 1 2 3 4 5 6 7\n",
            "Вот измененный список: 2 1 4 3 6 5 7\n"
          ]
        }
      ]
    },
    {
      "cell_type": "markdown",
      "source": [
        "### Задача 3"
      ],
      "metadata": {
        "id": "s03jKP4zAuIO"
      }
    },
    {
      "cell_type": "markdown",
      "source": [
        "Петя перешёл в другую школу. На уроке физкультуры ему понадобилось определить своё место в строю. Помогите ему это сделать.\n",
        "\n",
        "Программа получает на вход невозрастающую последовательность натуральных чисел, означающих рост каждого человека в строю. После этого вводится число X – рост Пети. Все числа во входных данных натуральные и не превышают 200.\n",
        "\n",
        "Выведите номер, под которым Петя должен встать в строй. Если в строю есть люди с одинаковым ростом, таким же, как у Пети, то он должен встать после них."
      ],
      "metadata": {
        "id": "z-Gy7c2iAx4s"
      }
    },
    {
      "cell_type": "code",
      "source": [
        "height = [int(x) for x in input('Введите рост в сантиметрах (до 200 см) человеков через пробел: ').split()]\n",
        "petya_height = int(input('Введите рост Пети: '))\n",
        "i = 0\n",
        "while i < len(height) and height[i] >= petya_height: # итерируемся по элементам списка, пока не встретим элемент меньший чем рост Пети\n",
        "  i += 1\n",
        "print(f'Петя должен встать в строй под номером {i + 1}.')"
      ],
      "metadata": {
        "id": "SxkP8SWR13in"
      },
      "execution_count": null,
      "outputs": []
    },
    {
      "cell_type": "markdown",
      "source": [
        "### Задача 4"
      ],
      "metadata": {
        "id": "PhLsAWjj40cq"
      }
    },
    {
      "cell_type": "markdown",
      "source": [
        "Известно, что на доске 8х8 можно расставить 8 ферзей так, чтобы они не били друг друга. Вам дана расстановка 8 ферзей на доске, определите, есть ли среди них пара бьющих друг друга. Программа получает на вход восемь пар чисел, каждое число от 1 до 8 — координаты 8 ферзей. Если ферзи не бьют друг друга, выведите слово NO, иначе выведите YES."
      ],
      "metadata": {
        "id": "A-jiWddzoPVU"
      }
    },
    {
      "cell_type": "code",
      "source": [
        "x, y = [0] * 8, [0] * 8\n",
        "answer = False # по умолчанию считаем, что ферзи не бьют друг друга\n",
        "for i in range(8):\n",
        "  x[i], y[i] = [int(num) for num in input('Введите пару чисел от 1 до 8: ').split()] # заполнили клетки\n",
        "\n",
        "for i in range(8):\n",
        "  for j in range(i + 1, 8): # сравниваем, находятся ли ферзи на одной горизонтали, вертикали или диагонали\n",
        "    if x[i] == x[j] or y[i] == y[j] or abs(x[i] - x[j]) == abs(y[i] - y[j]):\n",
        "      answer = True\n",
        "      break\n",
        "  if answer:\n",
        "    break\n",
        "\n",
        "if answer:\n",
        "  print('YES')\n",
        "else:\n",
        "  print('NO')"
      ],
      "metadata": {
        "id": "bJBoQXWIoRqR"
      },
      "execution_count": null,
      "outputs": []
    },
    {
      "cell_type": "markdown",
      "source": [
        "### Задача 5"
      ],
      "metadata": {
        "id": "7aN53S3Vxck8"
      }
    },
    {
      "cell_type": "markdown",
      "source": [
        "Дан список. Удалите из списка все повторы, то есть, оставьте в списке каждый элемент только в одном экземпляре (остаться должно только первое появление элемента в списке). Программа не должна использовать дополнительную память: это означает, что нельзя пользоваться множествами и генераторами, можно только производить изменения в самом списке."
      ],
      "metadata": {
        "id": "fIIlFN3VxfN0"
      }
    },
    {
      "cell_type": "code",
      "source": [
        "lst = input('Введите элементы списка через пробел: ').split()\n",
        "lst.reverse()\n",
        "i = 0\n",
        "\n",
        "while i < len(lst):\n",
        "    if lst.count(lst[i]) > 1:\n",
        "        lst.remove(lst[i])\n",
        "    else:\n",
        "        i += 1\n",
        "\n",
        "lst.reverse()\n",
        "print('Список без дубликатов:', *lst)"
      ],
      "metadata": {
        "id": "OSOZBLhlxet8"
      },
      "execution_count": null,
      "outputs": []
    },
    {
      "cell_type": "markdown",
      "source": [
        "### Задача 6"
      ],
      "metadata": {
        "id": "g06M0She8pnx"
      }
    },
    {
      "cell_type": "markdown",
      "source": [
        "На вход программе даётся число N и список. Удалите из списка все элементы, которые встречаются в нём ровно N раз. Программа не должна использовать дополнительную память."
      ],
      "metadata": {
        "id": "keKJlVXJ9UCf"
      }
    },
    {
      "cell_type": "code",
      "source": [
        "n = int(input('Введите число: '))\n",
        "lst = input('Введите элементы списка через пробел: ').split()\n",
        "\n",
        "for elem in lst:\n",
        "  if lst.count(elem) == n:\n",
        "    while elem in lst:\n",
        "      lst.remove(elem)\n",
        "\n",
        "print(f'Измененный список:', *lst)"
      ],
      "metadata": {
        "id": "_L6u8Usr8sY9"
      },
      "execution_count": null,
      "outputs": []
    },
    {
      "cell_type": "markdown",
      "source": [
        "### Задача 10"
      ],
      "metadata": {
        "id": "c7YvBQkVIFW1"
      }
    },
    {
      "cell_type": "markdown",
      "source": [
        "Напишите функцию, которая принимает строчку и возвращает порядковые номера всех букв в этой строчке в виде списка (напоминаю, что порядковый номер буквы в юникоде возвращает ord('c'))."
      ],
      "metadata": {
        "id": "keyPPMUWIHus"
      }
    },
    {
      "cell_type": "code",
      "source": [
        "def char_ord(string):\n",
        "  lst = []\n",
        "  for char in set(''.join(string.split())):\n",
        "    if char.isalpha():\n",
        "      lst.append(ord(char))\n",
        "  return lst\n",
        "\n",
        "char_ord(input('Введите буквенную строку: '))"
      ],
      "metadata": {
        "id": "7uU0yGe2IHQR"
      },
      "execution_count": null,
      "outputs": []
    }
  ]
}