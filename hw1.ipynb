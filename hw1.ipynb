{
 "cells": [
  {
   "cell_type": "markdown",
   "id": "f8a81db1",
   "metadata": {},
   "source": [
    "#### Задача 1"
   ]
  },
  {
   "cell_type": "code",
   "execution_count": 93,
   "id": "142389ce",
   "metadata": {},
   "outputs": [
    {
     "name": "stdout",
     "output_type": "stream",
     "text": [
      "Введите трехзначное число: 365\n",
      "Сумма всех цифр числа: 14\n"
     ]
    }
   ],
   "source": [
    "num = input('Введите трехзначное число: ')\n",
    "s = 0 # сюда положим сумму цифр\n",
    "\n",
    "for i in num:\n",
    "    i = (int(i))\n",
    "    s += i\n",
    "print(f'Сумма всех цифр числа: {s}')"
   ]
  },
  {
   "cell_type": "markdown",
   "id": "bd8cb2de",
   "metadata": {},
   "source": [
    "#### Задача 2"
   ]
  },
  {
   "cell_type": "code",
   "execution_count": 94,
   "id": "36917c9f",
   "metadata": {},
   "outputs": [
    {
     "name": "stdout",
     "output_type": "stream",
     "text": [
      "Процентная ставка: 18\n",
      "Рубли: 45\n",
      "Копейки: 32\n",
      "Размер вклада через год: 53 руб. 47 коп.\n"
     ]
    }
   ],
   "source": [
    "p, x, y = int(input('Процентная ставка: ')), int(input('Рубли: ')), int(input('Копейки: '))\n",
    "money = x * 100 + y # переводим все деньги в копейки\n",
    "money_with_rate = int(money * (p / 100) + money) # размер вклада через год в копейках (без дробной части копеек)\n",
    "print(f'Размер вклада через год: {money_with_rate // 100} руб. {money_with_rate % 100} коп.')"
   ]
  },
  {
   "cell_type": "markdown",
   "id": "f1a940ab",
   "metadata": {},
   "source": [
    "#### Задача 3"
   ]
  },
  {
   "cell_type": "code",
   "execution_count": 3,
   "id": "40218746",
   "metadata": {},
   "outputs": [
    {
     "name": "stdout",
     "output_type": "stream",
     "text": [
      "Введите число: 444444\n",
      "Не знаю, что делать с этим числом...\n"
     ]
    }
   ],
   "source": [
    "num = input('Введите число: ')\n",
    "\n",
    "if len(num) == 3: # определяем трехзначность числа по длине строки\n",
    "    num = int(num) # преобразуем строку в число, чтобы колдовать над ним дальше\n",
    "    if num % 3 == 0:\n",
    "        num = (num / 3) ** 2\n",
    "    else:\n",
    "        num = num // 5\n",
    "    print(f'Это номер машины! Результат: {num}')\n",
    "elif len(num) == 2 or len(num) == 1:\n",
    "    num = int(num)\n",
    "    num = (num * 8) % 6\n",
    "    print(f'Это количество людей! Результат: {num}')\n",
    "else:\n",
    "    print('Не знаю, что делать с этим числом...')"
   ]
  },
  {
   "cell_type": "markdown",
   "id": "cc97d603",
   "metadata": {},
   "source": [
    "#### Задача 4"
   ]
  },
  {
   "cell_type": "code",
   "execution_count": 47,
   "id": "4c48a30d",
   "metadata": {},
   "outputs": [
    {
     "name": "stdout",
     "output_type": "stream",
     "text": [
      "Введите целое число: 30\n",
      "514229\n"
     ]
    }
   ],
   "source": [
    "def fibonacci(n):\n",
    "    if n == 1:\n",
    "        return 0\n",
    "    elif n == 2 or n == 3:\n",
    "        return 1\n",
    "    elif n > 3:\n",
    "        return fibonacci(n - 2) + fibonacci(n - 1)\n",
    "\n",
    "print(fibonacci(int(input('Введите целое число: '))))"
   ]
  },
  {
   "cell_type": "markdown",
   "id": "4507a157",
   "metadata": {},
   "source": [
    "#### Задача 5"
   ]
  },
  {
   "cell_type": "code",
   "execution_count": 91,
   "id": "4dab9d66",
   "metadata": {},
   "outputs": [
    {
     "name": "stdout",
     "output_type": "stream",
     "text": [
      "Введите количество секунд: 9\n",
      "Время: 00:00:09\n"
     ]
    }
   ],
   "source": [
    "seconds = int(input('Введите количество секунд: '))\n",
    "hours = seconds // 3600 \n",
    "seconds %= 3600\n",
    "minutes = seconds // 60\n",
    "seconds %= 60\n",
    "\n",
    "if hours < 10:\n",
    "    hours = f'0{hours}'\n",
    "if minutes < 10:\n",
    "    minutes = f'0{minutes}'\n",
    "if seconds < 10:\n",
    "    seconds = f'0{seconds}'\n",
    "\n",
    "print(f'Время: {hours}:{minutes}:{seconds}')"
   ]
  }
 ],
 "metadata": {
  "kernelspec": {
   "display_name": "Python 3 (ipykernel)",
   "language": "python",
   "name": "python3"
  },
  "language_info": {
   "codemirror_mode": {
    "name": "ipython",
    "version": 3
   },
   "file_extension": ".py",
   "mimetype": "text/x-python",
   "name": "python",
   "nbconvert_exporter": "python",
   "pygments_lexer": "ipython3",
   "version": "3.9.6"
  }
 },
 "nbformat": 4,
 "nbformat_minor": 5
}
