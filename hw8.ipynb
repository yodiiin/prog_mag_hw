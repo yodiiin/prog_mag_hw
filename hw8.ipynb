{
 "cells": [
  {
   "cell_type": "markdown",
   "metadata": {},
   "source": [
    "Примечание: не о всех функциях numpy, нужных для решения задач, я могла вам рассказывать. Обращайтесь к документации! Практика поможет освоить numpy лучше, чем любая лекция (мне в свое время просто скинули эти задачи, не рассказав ничего про numpy). \n",
    "\n",
    "Во всех задачах необходимо написать код решения внутри функции и убедиться, что она работает, с помощью [assert](https://python-reference.readthedocs.io/en/latest/docs/statements/assert.html) на выражение с использованием этой функции для данных из условия.\n",
    "\n",
    "При решении задач запрещается использовать циклы (`for`, `while`) и оператор `if`.\n",
    "\n",
    "Везде, где встречаются массивы или матрицы, подразумевается, что это `numpy.array`.\n",
    "\n",
    "**numpy reference:** https://numpy.org/doc/stable/reference/index.html"
   ]
  },
  {
   "cell_type": "code",
   "execution_count": 1,
   "metadata": {
    "pycharm": {
     "name": "#%%\n"
    }
   },
   "outputs": [],
   "source": [
    "import numpy as np"
   ]
  },
  {
   "cell_type": "markdown",
   "metadata": {},
   "source": [
    "### Задание 1"
   ]
  },
  {
   "cell_type": "markdown",
   "metadata": {},
   "source": [
    "Напишите функцию, возвращающую округленную взвешенную сумму оценок по данным оценкам и весам. Можете посчитать свою оценку за курс :) Предположим, вес экзамена равен 0.3, вес домашек - 0.4, вес контрольной - 0.2, вес самостоятельных - 0.1. Верхняя оценка - 10. Например, если за экзамен у вас 7, за домашки 10, за контрольную 8, а за самостоятельные 6, то вы получите отличную оценку 8!"
   ]
  },
  {
   "cell_type": "code",
   "execution_count": 35,
   "metadata": {
    "pycharm": {
     "name": "#%%\n"
    }
   },
   "outputs": [],
   "source": [
    "def result_mark(weights: np.array, marks: np.array) -> int:\n",
    "    return round(np.sum(weights * marks))"
   ]
  },
  {
   "cell_type": "code",
   "execution_count": 36,
   "metadata": {},
   "outputs": [
    {
     "name": "stdout",
     "output_type": "stream",
     "text": [
      "Введите оценки через пробел: 8 6 7 6\n",
      "Ваша итоговая оценка: 7\n"
     ]
    }
   ],
   "source": [
    "marks = np.array(input('Введите оценки через пробел: ').split(), dtype='int_')\n",
    "# marks = np.random.randint(11, size=4)\n",
    "weights = np.array([0.3, 0.4, 0.2, 0.1])\n",
    "\n",
    "print(f'Ваша итоговая оценка: {result_mark(weights, marks)}')"
   ]
  },
  {
   "cell_type": "code",
   "execution_count": 33,
   "metadata": {
    "pycharm": {
     "name": "#%%\n"
    }
   },
   "outputs": [],
   "source": [
    "weights = np.array([0.3, 0.4, 0.2, 0.1])\n",
    "marks = np.array([7, 10, 8, 6])\n",
    "\n",
    "assert result_mark(weights, marks) == 8"
   ]
  },
  {
   "cell_type": "code",
   "execution_count": 34,
   "metadata": {
    "pycharm": {
     "name": "#%%\n"
    }
   },
   "outputs": [],
   "source": [
    "weights = np.array([0.3, 0.4, 0.2, 0.1])\n",
    "marks = np.array([7, 0, 8, 6])\n",
    "\n",
    "assert result_mark(weights, marks) == 4"
   ]
  },
  {
   "cell_type": "markdown",
   "metadata": {},
   "source": [
    "### Задание 2"
   ]
  },
  {
   "cell_type": "markdown",
   "metadata": {},
   "source": [
    "Напишите функцию, меняющую каждое третье (начиная с 0) значение массива целых чисел на заданное число. Например, если на вход поступает массив `array([3, 5, 1, 0, -3, 22, 213436])` и число `-111`, то на выходе должен получиться массив `array([-111, 5, 1, -111, -3, 22, -111])`."
   ]
  },
  {
   "cell_type": "code",
   "execution_count": 42,
   "metadata": {
    "pycharm": {
     "name": "#%%\n"
    }
   },
   "outputs": [],
   "source": [
    "def change_array(array: np.array, number: int) -> np.array:\n",
    "    array[::3] = number\n",
    "    return array"
   ]
  },
  {
   "cell_type": "code",
   "execution_count": 45,
   "metadata": {},
   "outputs": [
    {
     "name": "stdout",
     "output_type": "stream",
     "text": [
      "Задайте массив из целых чисел через пробел: 1 2 3 4 5 6 7\n",
      "Введите число для замены значения: 0\n",
      "Измененный массив: [0 2 3 0 5 6 0]\n"
     ]
    }
   ],
   "source": [
    "array = np.array(input('Задайте массив из целых чисел через пробел: ').split(), dtype='int_')\n",
    "number = int(input('Введите число для замены значения: '))\n",
    "\n",
    "print(f'Измененный массив: {change_array(array, number)}')"
   ]
  },
  {
   "cell_type": "code",
   "execution_count": 46,
   "metadata": {
    "pycharm": {
     "name": "#%%\n"
    }
   },
   "outputs": [],
   "source": [
    "array = np.array([3, 5, 1, 0, -3, 22, 213436])\n",
    "number = -111\n",
    "\n",
    "assert np.allclose(change_array(array, number), np.array([-111, 5, 1, -111, -3, 22, -111]))"
   ]
  },
  {
   "cell_type": "code",
   "execution_count": 47,
   "metadata": {
    "pycharm": {
     "name": "#%%\n"
    }
   },
   "outputs": [],
   "source": [
    "array = np.array([3, 14, 15, 92, 6])\n",
    "number = 8\n",
    "\n",
    "assert np.allclose(change_array(array, number), np.array([8, 14, 15, 8, 6]))"
   ]
  },
  {
   "cell_type": "markdown",
   "metadata": {},
   "source": [
    "### Задание 3"
   ]
  },
  {
   "cell_type": "markdown",
   "metadata": {},
   "source": [
    "Напишите функцию, выдающую индексы «близких» элементов заданных массивов, а именно тех пар элементов, чей модуль разницы не превосходит заданного значения. Например, если на вход поступают массив `array([1.5, 0.5, 2, -4.1, -3, 6, -1])`, массив `array([1.2, 0.5, 1, -4, 3, 0, -1.2])` и число `0.5`, то на выходе должен получиться массив `array([0, 1, 3, 6])` (**важно: не `tuple`, а одномерный массив типа `numpy.ndarray` (то есть `.ndim` от него равно 1)!**)."
   ]
  },
  {
   "attachments": {
    "image.png": {
     "image/png": "[encoded data removed]"
    }
   },
   "cell_type": "markdown",
   "metadata": {},
   "source": [
    "сначала хотела использовать метод .isclose(), но функция не проходила вторую проверку (не до конца поняла почему но, возможно, это связано с особенностями самого метода и значениями массива (выдавал True для тех элементов, которые формально не проходили по precision))\n",
    "\n",
    "![image.png](attachment:image.png)"
   ]
  },
  {
   "cell_type": "code",
   "execution_count": 46,
   "metadata": {
    "pycharm": {
     "name": "#%%\n"
    }
   },
   "outputs": [],
   "source": [
    "def find_close(array1: np.array, array2: np.array,\n",
    "               precision: float) -> np.array:\n",
    "    result = np.abs(array1 - array2)\n",
    "    return np.where(result <= precision)[0]"
   ]
  },
  {
   "cell_type": "code",
   "execution_count": 47,
   "metadata": {
    "pycharm": {
     "name": "#%%\n"
    }
   },
   "outputs": [],
   "source": [
    "array1 = np.array([1.5, 0.5, 2, -4.1, -3, 6, -1])\n",
    "array2 = np.array([1.2, 0.5, 1, -4.0,  3, 0, -1.2])\n",
    "precision = 0.5\n",
    "res = find_close(array1, array2, precision)\n",
    "\n",
    "assert res.ndim == 1\n",
    "assert np.allclose(res, np.array([0, 1, 3, 6]))"
   ]
  },
  {
   "cell_type": "code",
   "execution_count": 48,
   "metadata": {
    "pycharm": {
     "name": "#%%\n"
    }
   },
   "outputs": [],
   "source": [
    "array1 = np.array([3.1415, 2.7182, 1.6180, 6.6261])\n",
    "array2 = np.array([6.6730, 1.3807, -1,     6.0222])\n",
    "precision = 1.7\n",
    "res = find_close(array1, array2, precision)\n",
    "\n",
    "assert res.ndim == 1\n",
    "assert np.allclose(res, np.array([1, 3]))"
   ]
  },
  {
   "cell_type": "markdown",
   "metadata": {},
   "source": [
    "### Задание 4"
   ]
  },
  {
   "cell_type": "markdown",
   "metadata": {},
   "source": [
    "Напишите функцию, которая составляет блочную матрицу из четырех блоков, где каждый блок - это заданная матрица. Например, если на вход поступает матрица\n",
    "$$\n",
    "\\begin{pmatrix}\n",
    "0 & 1 & 2\\\\\n",
    "3 & 4 & 5\\\\\n",
    "\\end{pmatrix},\n",
    "$$\n",
    "то ответом будет матрица\n",
    "$$\n",
    "\\begin{pmatrix}\n",
    "0 & 1 & 2 & 0 & 1 & 2\\\\\n",
    "3 & 4 & 5 & 3 & 4 & 5\\\\\n",
    "0 & 1 & 2 & 0 & 1 & 2\\\\\n",
    "3 & 4 & 5 & 3 & 4 & 5\\\\\n",
    "\\end{pmatrix}\n",
    "$$"
   ]
  },
  {
   "cell_type": "code",
   "execution_count": 18,
   "metadata": {
    "pycharm": {
     "name": "#%%\n"
    }
   },
   "outputs": [],
   "source": [
    "def block_matrix(block: np.array) -> np.array:\n",
    "    block = np.concatenate([block, block]) # объединяем массивы\n",
    "    return np.hstack([block, block]) # соединяем объединенный массив горизонтально (получается 4 блока в итоге)"
   ]
  },
  {
   "cell_type": "code",
   "execution_count": 19,
   "metadata": {},
   "outputs": [
    {
     "name": "stdout",
     "output_type": "stream",
     "text": [
      "Блочная матрица:\n",
      "[[  2   4   5   0   2   4   5   0]\n",
      " [  1   4   2   1   1   4   2   1]\n",
      " [  3   3   5   1   3   3   5   1]\n",
      " [  0 -24   7   5   0 -24   7   5]\n",
      " [  2   4   5   0   2   4   5   0]\n",
      " [  1   4   2   1   1   4   2   1]\n",
      " [  3   3   5   1   3   3   5   1]\n",
      " [  0 -24   7   5   0 -24   7   5]]\n"
     ]
    }
   ],
   "source": [
    "block = np.array([[2, 4, 5, 0], [1, 4, 2, 1], [3, 3, 5, 1], [0, -24, 7, 5]])\n",
    "print(f'Блочная матрица:\\n{block_matrix(block)}')"
   ]
  },
  {
   "cell_type": "code",
   "execution_count": 20,
   "metadata": {
    "pycharm": {
     "name": "#%%\n"
    }
   },
   "outputs": [],
   "source": [
    "block = np.array([[1, 3, 3], [7, 0, 0]])\n",
    "\n",
    "assert np.allclose(\n",
    "    block_matrix(block),\n",
    "    np.array([[1, 3, 3, 1, 3, 3],\n",
    "              [7, 0, 0, 7, 0, 0],\n",
    "              [1, 3, 3, 1, 3, 3],\n",
    "              [7, 0, 0, 7, 0, 0]])\n",
    ")"
   ]
  },
  {
   "cell_type": "markdown",
   "metadata": {},
   "source": [
    "### Задание 5"
   ]
  },
  {
   "cell_type": "markdown",
   "metadata": {},
   "source": [
    "Напишите функцию, вычисляющую произведение всех ненулевых диагональных элементов на диагонали данной квадратной матрицы. Например, если на вход поступает матрица\n",
    "$$\n",
    "\\begin{pmatrix}\n",
    "0 & 1 & 2\\\\\n",
    "3 & 4 & 5\\\\\n",
    "6 & 7 & 8\\\\\n",
    "\\end{pmatrix},\n",
    "$$\n",
    "то ответом будет 32.\n",
    "\n",
    "Элементы матрицы считать целочисленными."
   ]
  },
  {
   "cell_type": "code",
   "execution_count": 49,
   "metadata": {
    "pycharm": {
     "name": "#%%\n"
    }
   },
   "outputs": [],
   "source": [
    "def diag_prod(matrix: np.array) -> int:\n",
    "    diag = np.diagonal(matrix) # достаем диагональ матрицы\n",
    "    return np.prod(diag[diag != 0]) # перемножаем те элементы, которые != 0"
   ]
  },
  {
   "cell_type": "code",
   "execution_count": 50,
   "metadata": {},
   "outputs": [
    {
     "name": "stdout",
     "output_type": "stream",
     "text": [
      "Матрица:\n",
      "[[20  9 36 13 12]\n",
      " [ 8 19 25 32  5]\n",
      " [39 44 15 38 39]\n",
      " [22 39 48 22 20]\n",
      " [ 5 49 48 35 41]]\n",
      "Произведение ненулевых диагональных элементов: 5141400\n"
     ]
    }
   ],
   "source": [
    "matrix = np.random.randint(50, size=(5, 5))\n",
    "print(f'Матрица:\\n{matrix}\\nПроизведение ненулевых диагональных элементов: {diag_prod(matrix)}')"
   ]
  },
  {
   "cell_type": "code",
   "execution_count": 51,
   "metadata": {
    "pycharm": {
     "name": "#%%\n"
    }
   },
   "outputs": [],
   "source": [
    "matrix = np.array([[0, 1, 2, 3],\n",
    "                   [4, 5, 6, 7],\n",
    "                   [8, 9, 10, 11],\n",
    "                   [12, 13, 14, 15]])\n",
    "\n",
    "assert diag_prod(matrix) == 750"
   ]
  },
  {
   "cell_type": "markdown",
   "metadata": {},
   "source": [
    "### Задание 6"
   ]
  },
  {
   "cell_type": "markdown",
   "metadata": {},
   "source": [
    "Для улучшения качества работы некоторых алгоритмов машинного обучения может быть полезно использовать [нормализацию данных](https://vk.cc/8xmfQk), чтобы привести признаки в выборке к одному масштабу — а именно, из каждого столбца вычесть среднее его значений и поделить на их стандартное отклонение. Напишите функцию, нормализующую входящую матрицу (по столбцам). Например, если на вход подается матрица \n",
    "$$\n",
    "\\begin{pmatrix}\n",
    "1 & 4 & 4200\\\\\n",
    "0 & 10 & 5000\\\\\n",
    "1 & 2 & 1000\\\\\n",
    "\\end{pmatrix},\n",
    "$$\n",
    "то результатом с точностью до сотых будет матрица\n",
    "$$\n",
    "\\begin{pmatrix}\n",
    "0.71 & -0.39 & 0.46\\\\\n",
    "-1.41 & 1.37 & 0.93\\\\\n",
    "0.71 & -0.98 & -1.39\\\\\n",
    "\\end{pmatrix}\n",
    "$$\n",
    "\n",
    "Учтите, что в вашем матрице не должно получаться никаких nan. Подумайте, в каком случае они могут возникнуть и как обойти эту проблему.\n",
    "\n",
    "_Подсказка. Казалось бы, при чем тут деление на ноль._"
   ]
  },
  {
   "cell_type": "code",
   "execution_count": 52,
   "metadata": {
    "pycharm": {
     "name": "#%%\n"
    }
   },
   "outputs": [],
   "source": [
    "def normalize(matrix: np.array) -> np.array:\n",
    "    mean_values = np.mean(matrix, axis=0) # берем столбец\n",
    "    std_values = np.std(matrix, axis=0)\n",
    "    std_values[std_values == 0] = 1 # стандартное отклонение может получится 0, если элементы в столбце матрицы будут одинаковыми\n",
    "    return (matrix - mean_values) / std_values"
   ]
  },
  {
   "cell_type": "code",
   "execution_count": 53,
   "metadata": {},
   "outputs": [
    {
     "name": "stdout",
     "output_type": "stream",
     "text": [
      "Нормализованная матрица:\n",
      "[[ 0.         -0.39223227  0.46291005]\n",
      " [ 0.          1.37281295  0.9258201 ]\n",
      " [ 0.         -0.98058068 -1.38873015]]\n"
     ]
    }
   ],
   "source": [
    "matrix = np.array([[1, 4, 4200], [1, 10, 5000], [1, 2, 1000]])\n",
    "print(f'Нормализованная матрица:\\n{normalize(matrix)}')"
   ]
  },
  {
   "cell_type": "code",
   "execution_count": 54,
   "metadata": {
    "pycharm": {
     "name": "#%%\n"
    }
   },
   "outputs": [],
   "source": [
    "matrix = np.array([[1, 4, 4200], [0, 10, 5000], [1, 2, 1000]])\n",
    "\n",
    "assert np.allclose(\n",
    "    normalize(matrix),\n",
    "    np.array([[ 0.7071, -0.39223,  0.46291],\n",
    "              [-1.4142,  1.37281,  0.92582],\n",
    "              [ 0.7071, -0.98058, -1.38873]])\n",
    ")"
   ]
  },
  {
   "cell_type": "code",
   "execution_count": 55,
   "metadata": {
    "pycharm": {
     "name": "#%%\n"
    }
   },
   "outputs": [],
   "source": [
    "matrix = np.array([[-7, 2, 42], [2, 10, 50], [5, 4, 10]])\n",
    "\n",
    "assert np.allclose(\n",
    "    normalize(matrix),\n",
    "    np.array([[-1.37281, -0.98058,  0.46291],\n",
    "              [ 0.39223,  1.37281,  0.92582],\n",
    "              [ 0.98058, -0.39223, -1.38873]])\n",
    ")"
   ]
  },
  {
   "cell_type": "markdown",
   "metadata": {},
   "source": [
    "### Задание 7"
   ]
  },
  {
   "cell_type": "markdown",
   "metadata": {},
   "source": [
    "Напишите функцию, вычисляющую какую-нибудь первообразную данного полинома (в качестве константы возьмите $0$). Например, если на вход поступает массив коэффициентов `array([4, 6, 0, 1])`, что соответствует полиному $4x^3 + 6x^2 + 1$, на выходе получается массив коэффициентов `array([1, 2, 0, 1, -2])`, соответствующий полиному $x^4 + 2x^3 + x - 2$."
   ]
  },
  {
   "cell_type": "code",
   "execution_count": 37,
   "metadata": {
    "pycharm": {
     "name": "#%%\n"
    }
   },
   "outputs": [],
   "source": [
    "def antiderivative(coefs: np.array) -> np.array:\n",
    "    return np.polyint(coefs, k=0)"
   ]
  },
  {
   "cell_type": "code",
   "execution_count": 38,
   "metadata": {
    "pycharm": {
     "name": "#%%\n"
    }
   },
   "outputs": [],
   "source": [
    "coefs = np.array([4, 6, 0, 1])\n",
    "\n",
    "assert np.allclose(\n",
    "    antiderivative(coefs),\n",
    "    np.array([1., 2., 0., 1., 0.])\n",
    ")"
   ]
  },
  {
   "cell_type": "code",
   "execution_count": 39,
   "metadata": {
    "pycharm": {
     "name": "#%%\n"
    }
   },
   "outputs": [],
   "source": [
    "coefs = np.array([1, 7, -12, 21, -6])\n",
    "\n",
    "assert np.allclose(\n",
    "    antiderivative(coefs),\n",
    "    np.array([ 0.2, 1.75, -4., 10.5, -6., 0.])\n",
    ")"
   ]
  },
  {
   "cell_type": "markdown",
   "metadata": {},
   "source": [
    "### Задание 8"
   ]
  },
  {
   "cell_type": "markdown",
   "metadata": {},
   "source": [
    "Напишите функцию, делающую данную [треугольную матрицу](https://ru.wikipedia.org/wiki/%D0%A2%D1%80%D0%B5%D1%83%D0%B3%D0%BE%D0%BB%D1%8C%D0%BD%D0%B0%D1%8F_%D0%BC%D0%B0%D1%82%D1%80%D0%B8%D1%86%D0%B0) симметричной. Например, если на вход поступает матрица\n",
    "$$\n",
    "\\begin{pmatrix}\n",
    "1 & 2 & 3 & 4\\\\\n",
    "0 & 5 & 6 & 7\\\\\n",
    "0 & 0 & 8 & 9\\\\\n",
    "0 & 0 & 0 & 10\\\\\n",
    "\\end{pmatrix},\n",
    "$$\n",
    "то на выходе должна быть матрица\n",
    "$$\n",
    "\\begin{pmatrix}\n",
    "1 & 2 & 3 & 4\\\\\n",
    "2 & 5 & 6 & 7\\\\\n",
    "3 & 6 & 8 & 9\\\\\n",
    "4 & 7 & 9 & 10\\\\\n",
    "\\end{pmatrix}.\n",
    "$$"
   ]
  },
  {
   "cell_type": "code",
   "execution_count": 9,
   "metadata": {
    "pycharm": {
     "name": "#%%\n"
    }
   },
   "outputs": [],
   "source": [
    "def make_symmetric(matrix: np.array) -> np.array:\n",
    "    transposed = np.transpose(matrix)\n",
    "    return np.tril(transposed, -1) + matrix # к транспонированной матрице прибавляем исходную матрицу, заполняя нули"
   ]
  },
  {
   "cell_type": "code",
   "execution_count": 10,
   "metadata": {
    "pycharm": {
     "name": "#%%\n"
    }
   },
   "outputs": [],
   "source": [
    "matrix = np.array([[1, 2, 3, 4], [0, 5, 6, 7], [0, 0, 8, 9], [0, 0, 0, 10]])\n",
    "\n",
    "assert np.allclose(\n",
    "    make_symmetric(matrix),\n",
    "    np.array([[ 1,  2,  3,  4],\n",
    "              [ 2,  5,  6,  7],\n",
    "              [ 3,  6,  8,  9],\n",
    "              [ 4,  7,  9, 10]])\n",
    ")"
   ]
  },
  {
   "cell_type": "code",
   "execution_count": 11,
   "metadata": {
    "pycharm": {
     "name": "#%%\n"
    }
   },
   "outputs": [],
   "source": [
    "matrix = np.array([[10, 21, 32, 49], [0, 53, 62, 78], [0, 0, 82, 92], [0, 0, 0, 10]])\n",
    "\n",
    "assert np.allclose(\n",
    "    make_symmetric(matrix),\n",
    "    np.array([[10, 21, 32, 49],\n",
    "              [21, 53, 62, 78],\n",
    "              [32, 62, 82, 92],\n",
    "              [49, 78, 92, 10]])\n",
    ")"
   ]
  },
  {
   "cell_type": "markdown",
   "metadata": {},
   "source": [
    "### Задание 9"
   ]
  },
  {
   "cell_type": "markdown",
   "metadata": {},
   "source": [
    "Напишите функцию, создающую прямоугольную матрицу из m одинаковых строк, заполненных последовательными натуральными числами от a до b включительно в возрастающем порядке. Например, если m = 5, a = 3, b = 10, то на выходе будет матрица\n",
    "$$\n",
    "\\begin{pmatrix}\n",
    "3 & 4 & 5 & 6 & 7 & 8 & 9 & 10\\\\\n",
    "3 & 4 & 5 & 6 & 7 & 8 & 9 & 10\\\\\n",
    "3 & 4 & 5 & 6 & 7 & 8 & 9 & 10\\\\\n",
    "3 & 4 & 5 & 6 & 7 & 8 & 9 & 10\\\\\n",
    "3 & 4 & 5 & 6 & 7 & 8 & 9 & 10\\\\\n",
    "\\end{pmatrix}\n",
    "$$"
   ]
  },
  {
   "cell_type": "code",
   "execution_count": 12,
   "metadata": {
    "pycharm": {
     "name": "#%%\n"
    }
   },
   "outputs": [],
   "source": [
    "def construct_matrix(m: int, a: int, b: int) -> np.array:\n",
    "    matrix = np.arange(a, b + 1) # создаем массив из элементов от a до b включительно\n",
    "    return np.tile(matrix, (m, 1)) # создаем матрицу и копируем строку m раз"
   ]
  },
  {
   "cell_type": "code",
   "execution_count": 13,
   "metadata": {
    "pycharm": {
     "name": "#%%\n"
    }
   },
   "outputs": [],
   "source": [
    "m = 5\n",
    "a = 3\n",
    "b = 10\n",
    "\n",
    "assert np.allclose(\n",
    "    construct_matrix(m, a, b),\n",
    "    np.array([[ 3,  4,  5,  6,  7,  8,  9, 10],\n",
    "              [ 3,  4,  5,  6,  7,  8,  9, 10],\n",
    "              [ 3,  4,  5,  6,  7,  8,  9, 10],\n",
    "              [ 3,  4,  5,  6,  7,  8,  9, 10],\n",
    "              [ 3,  4,  5,  6,  7,  8,  9, 10]])\n",
    ")"
   ]
  },
  {
   "cell_type": "code",
   "execution_count": 14,
   "metadata": {
    "pycharm": {
     "name": "#%%\n"
    }
   },
   "outputs": [],
   "source": [
    "m = 3\n",
    "a = 2\n",
    "b = 6\n",
    "\n",
    "assert np.allclose(\n",
    "    construct_matrix(m, a, b),\n",
    "    np.array([[2, 3, 4, 5, 6],\n",
    "              [2, 3, 4, 5, 6],\n",
    "              [2, 3, 4, 5, 6]])\n",
    ")"
   ]
  },
  {
   "cell_type": "markdown",
   "metadata": {},
   "source": [
    "### Задание 10"
   ]
  },
  {
   "cell_type": "markdown",
   "metadata": {},
   "source": [
    "Напишите функцию, вычисляющую [косинусную близость](https://en.wikipedia.org/wiki/Cosine_similarity) двух векторов. Например, если на вход поступают вектора `array([-2, 1, 0, -5, 4, 3, -3])` и `array([0, 2, -2, 10, 6, 0, 0])`, ответом будет -0.25."
   ]
  },
  {
   "cell_type": "code",
   "execution_count": 15,
   "metadata": {
    "pycharm": {
     "name": "#%%\n"
    }
   },
   "outputs": [],
   "source": [
    "def cosine_similarity(vec1: np.array, vec2: np.array) -> float:\n",
    "    dot_product = np.dot(vec1, vec2) # скалярное произведение\n",
    "    vec1_norm, vec2_norm = np.linalg.norm(vec1), np.linalg.norm(vec2) # вычисляем норму векторов\n",
    "    return dot_product / (vec1_norm * vec2_norm) # косинусная близость — отношение скалярного произведения к произведению норм"
   ]
  },
  {
   "cell_type": "code",
   "execution_count": 16,
   "metadata": {
    "pycharm": {
     "name": "#%%\n"
    }
   },
   "outputs": [],
   "source": [
    "vec1 = np.array([-2, 1,  0, -5, 4, 3, -3])\n",
    "vec2 = np.array([ 0, 2, -2, 10, 6, 0,  0])\n",
    "\n",
    "assert np.allclose(cosine_similarity(vec1, vec2), -0.25)"
   ]
  },
  {
   "cell_type": "code",
   "execution_count": 17,
   "metadata": {
    "pycharm": {
     "name": "#%%\n"
    }
   },
   "outputs": [],
   "source": [
    "vec1 = np.array([-4, 2,  9, -8, 9, 0, -2])\n",
    "vec2 = np.array([ 3, 2, -4, -1, 3, 2,  2])\n",
    "\n",
    "assert np.allclose(cosine_similarity(vec1, vec2), -0.119929)"
   ]
  }
 ],
 "metadata": {
  "kernelspec": {
   "display_name": "Python 3 (ipykernel)",
   "language": "python",
   "name": "python3"
  },
  "language_info": {
   "codemirror_mode": {
    "name": "ipython",
    "version": 3
   },
   "file_extension": ".py",
   "mimetype": "text/x-python",
   "name": "python",
   "nbconvert_exporter": "python",
   "pygments_lexer": "ipython3",
   "version": "3.9.6"
  }
 },
 "nbformat": 4,
 "nbformat_minor": 4
}
