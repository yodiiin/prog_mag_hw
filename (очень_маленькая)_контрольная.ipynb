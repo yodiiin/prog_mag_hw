{
  "nbformat": 4,
  "nbformat_minor": 0,
  "metadata": {
    "colab": {
      "provenance": []
    },
    "kernelspec": {
      "name": "python3",
      "display_name": "Python 3"
    },
    "language_info": {
      "name": "python"
    }
  },
  "cells": [
    {
      "cell_type": "markdown",
      "source": [
        "### Задача 1"
      ],
      "metadata": {
        "id": "vGn3Am3dvJY3"
      }
    },
    {
      "cell_type": "markdown",
      "source": [
        "Напишите программу, которая считает объем шара. Запрашивается радиус (не обязательно целое число), выводится объем. Формулу для расчета можно, естественно, нагуглить."
      ],
      "metadata": {
        "id": "YM0L0URxvNMo"
      }
    },
    {
      "cell_type": "code",
      "execution_count": 7,
      "metadata": {
        "colab": {
          "base_uri": "https://localhost:8080/"
        },
        "id": "kOZWPi_Ku7xZ",
        "outputId": "d5157fe6-3da5-41ad-f460-06dfa759c5a4"
      },
      "outputs": [
        {
          "output_type": "stream",
          "name": "stdout",
          "text": [
            "Введите радиус шара: 2\n",
            "Радиус шара: 33.510321638291124\n"
          ]
        }
      ],
      "source": [
        "import math\n",
        "\n",
        "\n",
        "def volume(r):\n",
        "  v = (4 / 3) * math.pi * (r ** 3)\n",
        "  return v\n",
        "\n",
        "r = input('Введите радиус шара: ')\n",
        "if '.' in r:\n",
        "  r = float(r)\n",
        "else:\n",
        "  r = int(r)\n",
        "\n",
        "print('Радиус шара:', volume(r))"
      ]
    },
    {
      "cell_type": "markdown",
      "source": [
        "### Задача 2"
      ],
      "metadata": {
        "id": "VxRW-0Xux9jj"
      }
    },
    {
      "cell_type": "markdown",
      "source": [
        "Вводится две строки. Посчитайте, сколько процентов от длины первой строки составляет длина второй строки."
      ],
      "metadata": {
        "id": "T74u40fyx9U_"
      }
    },
    {
      "cell_type": "code",
      "source": [
        "def percent(s1, s2):\n",
        "  if s2 > s1:\n",
        "    print(f'Длина второй строки занимает {len(s2) / len(s1) * 100}% от длины первой')\n",
        "\n",
        "percent(input('Введите первую строку: '), input('Введите вторую строку: '))"
      ],
      "metadata": {
        "colab": {
          "base_uri": "https://localhost:8080/"
        },
        "id": "fCBKqmWMvIv5",
        "outputId": "efe25092-7a5b-4f77-e6dc-137d80e72a28"
      },
      "execution_count": 6,
      "outputs": [
        {
          "output_type": "stream",
          "name": "stdout",
          "text": [
            "Введите первую строку: уайщшука\n",
            "Введите вторую строку: лыоватлфы\n",
            "Вторая строка занимает 112.5% от длины первой\n"
          ]
        }
      ]
    },
    {
      "cell_type": "markdown",
      "source": [
        "### Задача 3"
      ],
      "metadata": {
        "id": "tLW1FMKBLvgY"
      }
    },
    {
      "cell_type": "markdown",
      "source": [
        "Вводится список. Если список упорядочен по возрастанию, выведите \"по возрастанию\", если по убыванию - то \"по убыванию\", а если не упорядочен - то \"не упорядочен\"."
      ],
      "metadata": {
        "id": "ZXyrCCt_Lxid"
      }
    },
    {
      "cell_type": "code",
      "source": [
        "def checker(lst):\n",
        "  if lst == sorted(lst):\n",
        "    print('по возрастанию')\n",
        "  elif lst == sorted(lst, reverse=True):\n",
        "    print('по убыванию')\n",
        "  else:\n",
        "    print('не упорядочен')\n",
        "\n",
        "checker(input('Введите элементы списка через пробел: ').split())"
      ],
      "metadata": {
        "id": "yL2ZkM86J5-b"
      },
      "execution_count": null,
      "outputs": []
    },
    {
      "cell_type": "markdown",
      "source": [
        "### Задача 4"
      ],
      "metadata": {
        "id": "fw6D3DZAO27r"
      }
    },
    {
      "cell_type": "markdown",
      "source": [
        "Дано N слов: сначала вводится число N, затем вводится ровно N слов английского языка (без пробелов, но могут быть с большой буквы). Подсчитайте количество артиклей \"the\" среди введенных слов и выведите это количество."
      ],
      "metadata": {
        "id": "5mIgq0hYO2tS"
      }
    },
    {
      "cell_type": "code",
      "source": [
        "def the_counter(n):\n",
        "  i = 0\n",
        "  cnt = 0\n",
        "  while i < n:\n",
        "    word = input('Введите слово на английском: ')\n",
        "    i += 1\n",
        "    if word.lower() == 'the':\n",
        "      cnt += 1\n",
        "  print(f'Количество встретившихся the: {cnt}')\n",
        "\n",
        "the_counter(int(input('Введите целое число: ')))"
      ],
      "metadata": {
        "id": "_J3Q5H1wNLWl"
      },
      "execution_count": null,
      "outputs": []
    },
    {
      "cell_type": "markdown",
      "source": [
        "### Задача 6"
      ],
      "metadata": {
        "id": "JrJTq9XDV0Rm"
      }
    },
    {
      "cell_type": "markdown",
      "source": [
        "Сначала с экрана водится натуральное число X. Далее пользователь вводит последовательность чисел: числа вводятся последовательно по одному (списки с числами через пробел использовать нельзя!), последовательность завершается числом 0. Если в последовательности в какой-то момент встречается число X, программа должна прервать процесс и напечатать, каким по счёту в последовательности было это число. Если же число X не встретилось и последовательность закончилась, следует напечатать: \"Число X не встретилось\" (вместо 'X' должно быть его значение)."
      ],
      "metadata": {
        "id": "c2kNnTPrWfLB"
      }
    },
    {
      "cell_type": "code",
      "source": [
        "x = int(input('Введите целое число: '))\n",
        "i = 0\n",
        "\n",
        "while True:\n",
        "  num = int(input('Введите последовательность чисел по одному: '))\n",
        "  i += 1\n",
        "  if num == x:\n",
        "    print(f'Число {num} было {i}-ым по счету')\n",
        "    break\n",
        "  elif num == 0:\n",
        "    print(f'Число {x} не встретилось')\n",
        "    break"
      ],
      "metadata": {
        "id": "uwFk85oBWelL"
      },
      "execution_count": null,
      "outputs": []
    },
    {
      "cell_type": "markdown",
      "source": [
        "### Задача 7"
      ],
      "metadata": {
        "id": "abwSfU0lZ797"
      }
    },
    {
      "cell_type": "markdown",
      "source": [
        "Пользователь вводит текст, в котором встречаются цифры. Напишите функцию, которая будет находить цифры и печатать в столбик."
      ],
      "metadata": {
        "id": "qGYZJASIZ-hj"
      }
    },
    {
      "cell_type": "code",
      "source": [
        "def numbers(text):\n",
        "  print('\\nВот числа, которые встретились в тексте:')\n",
        "  for word in text.split():\n",
        "    if word.isdigit():\n",
        "      print(word, sep='\\n')\n",
        "\n",
        "numbers(input('Введите текст с цифрами: '))"
      ],
      "metadata": {
        "id": "bLY8Pk7XZ7Sv"
      },
      "execution_count": null,
      "outputs": []
    }
  ]
}