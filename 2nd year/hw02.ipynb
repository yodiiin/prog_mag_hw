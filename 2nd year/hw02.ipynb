{
 "cells": [
  {
   "cell_type": "markdown",
   "id": "521c0845-4c9a-45f5-9079-5b795f0356ec",
   "metadata": {},
   "source": [
    "### Задача 1 (10 баллов)\n",
    "\n",
    "Вы разрабатываете игру, в которой главный герой — археолог и исследователь древних цивилизаций. Его цель — собрать и исследовать артефакты, которые разбросаны по разным древним руинам. Ваша задача — создать класс ArtifactCollector, который будет управлять коллекцией артефактов. Эта коллекция должна быть итерируемой, поддерживать сортировку и фильтрацию артефактов по разным критериям.\n",
    "\n",
    "Требования:\n",
    "\n",
    "Создайте класс Artifact, который представляет артефакт. Артефакт должен иметь следующие свойства:\n",
    "\n",
    "- name — название артефакта.\n",
    "- age — возраст артефакта (в годах).\n",
    "- origin — происхождение артефакта (например, \"Egypt\", \"Greece\", \"Aztec\").\n",
    "- rarity — редкость артефакта (например, \"common\", \"rare\", \"legendary\").\n",
    "\n",
    "Создайте класс ArtifactCollector, который управляет коллекцией артефактов. Коллекция должна:\n",
    "\n",
    "- Поддерживать добавление артефактов.\n",
    "- Быть итерируемой (по умолчанию артефакты выводятся в порядке добавления).\n",
    "- Поддерживать сортировку по возрасту артефактов с помощью метода sort_by_age().\n",
    "- Поддерживать фильтрацию артефактов по происхождению с помощью метода filter_by_origin(origin).\n",
    "- Поддерживать фильтрацию по редкости с помощью метода filter_by_rarity(rarity).\n",
    "- Метод reversed должен возвращать артефакты в обратном порядке (например, чтобы археолог мог просмотреть последние найденные).\n",
    "\n",
    "Дополнительное задание (+балл):\n",
    "\n",
    "- Реализуйте возможность находить самый древний артефакт с помощью метода find_oldest().\n",
    "- Добавьте возможность находить артефакт с определённым именем через метод find_by_name(name).\n",
    "\n",
    "Пример использования:\n",
    "\n",
    "\n",
    "#### Создаем артефакты\n",
    "\n",
    "    mask = Artifact(\"Golden Mask\", 3000, \"Egypt\", \"legendary\")\n",
    "    vase = Artifact(\"Ancient Vase\", 2000, \"Greece\", \"rare\")\n",
    "    statue = Artifact(\"Stone Statue\", 1500, \"Aztec\", \"common\")\n",
    "    amulet = Artifact(\"Amulet of Anubis\", 5000, \"Egypt\", \"legendary\")\n",
    "\n",
    "#### Создаем коллекционера артефактов и добавляем в коллекцию\n",
    "\n",
    "    collector = ArtifactCollector()\n",
    "    collector.add_artifact(mask)\n",
    "    collector.add_artifact(vase)\n",
    "    collector.add_artifact(statue)\n",
    "    collector.add_artifact(amulet)\n",
    "\n",
    "#### Итерация по коллекции\n",
    "\n",
    "    print(\"Все артефакты:\")\n",
    "    for artifact in collector:\n",
    "        print(artifact.name)\n",
    "\n",
    "#### Сортировка по возрасту\n",
    "\n",
    "    print(\"\\nАртефакты по возрасту:\")\n",
    "    collector.sort_by_age()\n",
    "    for artifact in collector:\n",
    "        print(f\"{artifact.name}: {artifact.age} лет\")\n",
    "\n",
    "#### Фильтрация по происхождению\n",
    "\n",
    "    print(\"\\nАртефакты из Египта:\")\n",
    "    for artifact in collector.filter_by_origin(\"Egypt\"):\n",
    "        print(artifact.name)\n",
    "\n",
    "#### Самый древний артефакт\n",
    "\n",
    "    oldest = collector.find_oldest()\n",
    "    print(f\"\\nСамый древний артефакт: {oldest.name} ({oldest.age} лет)\")\n",
    "\n",
    "#### Поиск по имени\n",
    "\n",
    "    artifact = collector.find_by_name(\"Ancient Vase\")\n",
    "    if artifact:\n",
    "        print(f\"\\nАртефакт найден: {artifact.name}, {artifact.age} лет, {artifact.origin}\")\n",
    "    else:\n",
    "        print(\"\\nАртефакт не найден\")\n",
    "\n",
    "#### Обратный порядок итерации\n",
    "\n",
    "    print(\"\\nАртефакты в обратном порядке:\")\n",
    "    for artifact in reversed(collector):\n",
    "        print(artifact.name)\n",
    "        \n",
    "Подсказки:\n",
    "\n",
    "Магические методы \\_\\_iter\\_\\_ и \\_\\_reversed\\_\\_ помогут сделать коллекцию итерируемой.\n",
    "\n",
    "Для сортировки и фильтрации используйте генераторы или списковые включения.\n",
    "\n",
    "Для поиска используйте стандартные методы работы с коллекциями (max(), min())."
   ]
  },
  {
   "cell_type": "code",
   "execution_count": 1,
   "id": "78551ac7-c386-4e14-b714-3ea9a6dd71b2",
   "metadata": {},
   "outputs": [],
   "source": [
    "class Artifact:\n",
    "    def __init__(self, name, age, origin, rarity):\n",
    "        self.name = name\n",
    "        self.age = age\n",
    "        self.origin = origin\n",
    "        self.rarity = rarity\n",
    "    \n",
    "    def __repr__(self):\n",
    "        return f\"Artifact({self.name}, {self.age}, {self.origin}, {self.rarity})\""
   ]
  },
  {
   "cell_type": "code",
   "execution_count": 16,
   "id": "c6020641",
   "metadata": {},
   "outputs": [],
   "source": [
    "class ArtifactCollector:\n",
    "    def __init__(self):\n",
    "        self.artifacts = []\n",
    "    \n",
    "    def __iter__(self):\n",
    "        return ArtifactsIterator(self.artifacts)\n",
    "    \n",
    "    def __reversed__(self):\n",
    "        return ArtifactsReverseIterator(self.artifacts)\n",
    "\n",
    "    def add_artifact(self, artifact):\n",
    "        self.artifacts.append(artifact)\n",
    "\n",
    "    def sort_by_age(self):\n",
    "        return (artifact for artifact in sorted(self.artifacts, key=lambda artifact: artifact.age))\n",
    "\n",
    "    def filter_by_origin(self, origin):\n",
    "        return (artifact for artifact in self.artifacts if artifact.origin == origin)\n",
    "\n",
    "    def filter_by_rarity(self, rarity):\n",
    "        return (artifact for artifact in self.artifacts if artifact.rarity == rarity)\n",
    "    \n",
    "    def find_oldest(self):\n",
    "        if not self.artifacts:\n",
    "            return None\n",
    "        return max(self.artifacts, key=lambda artifact: artifact.age)\n",
    "    \n",
    "    def find_by_name(self, name):\n",
    "        for artifact in self:\n",
    "            if artifact.name == name:\n",
    "                return artifact\n",
    "        return None\n",
    "\n",
    "\n",
    "class ArtifactsIterator:\n",
    "    def __init__(self, artifacts):\n",
    "        self.artifacts = artifacts\n",
    "        self.idx = 0\n",
    "    \n",
    "    def __iter__(self):\n",
    "        return self\n",
    "    \n",
    "    def __next__(self):\n",
    "        if self.idx >= len(self.artifacts):\n",
    "            raise StopIteration\n",
    "        artifact = self.artifacts[self.idx]\n",
    "        self.idx += 1\n",
    "        return artifact\n",
    "\n",
    "class ArtifactsReverseIterator:\n",
    "    def __init__(self, artifacts):\n",
    "        self.artifacts = artifacts\n",
    "        self.idx = len(self.artifacts) - 1\n",
    "    \n",
    "    def __iter__(self):\n",
    "        return self\n",
    "    \n",
    "    def __next__(self):\n",
    "        if self.idx < 0: # дошли до последнего элемента\n",
    "            raise StopIteration\n",
    "        artifact = self.artifacts[self.idx]\n",
    "        self.idx -= 1\n",
    "        return artifact\n",
    "    "
   ]
  },
  {
   "cell_type": "code",
   "execution_count": 12,
   "id": "6dcecaff",
   "metadata": {},
   "outputs": [],
   "source": [
    "mask = Artifact(\"Golden Mask\", 3000, \"Egypt\", \"legendary\")\n",
    "vase = Artifact(\"Ancient Vase\", 2000, \"Greece\", \"rare\")\n",
    "statue = Artifact(\"Stone Statue\", 1500, \"Aztec\", \"common\")\n",
    "amulet = Artifact(\"Amulet of Anubis\", 5000, \"Egypt\", \"legendary\")"
   ]
  },
  {
   "cell_type": "code",
   "execution_count": 13,
   "id": "9a7e9c66",
   "metadata": {},
   "outputs": [],
   "source": [
    "collector = ArtifactCollector()\n",
    "collector.add_artifact(mask)\n",
    "collector.add_artifact(vase)\n",
    "collector.add_artifact(statue)\n",
    "collector.add_artifact(amulet)"
   ]
  },
  {
   "cell_type": "code",
   "execution_count": 14,
   "id": "8c43aa90",
   "metadata": {},
   "outputs": [
    {
     "name": "stdout",
     "output_type": "stream",
     "text": [
      "Все артефакты:\n",
      "Golden Mask\n",
      "Ancient Vase\n",
      "Stone Statue\n",
      "Amulet of Anubis\n"
     ]
    }
   ],
   "source": [
    "print(\"Все артефакты:\")\n",
    "for artifact in collector:\n",
    "    print(artifact.name)"
   ]
  },
  {
   "cell_type": "code",
   "execution_count": 15,
   "id": "64b51595",
   "metadata": {},
   "outputs": [
    {
     "name": "stdout",
     "output_type": "stream",
     "text": [
      "\n",
      "Артефакты по возрасту:\n",
      "Stone Statue: 1500 лет\n",
      "Ancient Vase: 2000 лет\n",
      "Golden Mask: 3000 лет\n",
      "Amulet of Anubis: 5000 лет\n"
     ]
    }
   ],
   "source": [
    "print(\"\\nАртефакты по возрасту:\")\n",
    "# collector.sort_by_age()\n",
    "for artifact in collector.sort_by_age():\n",
    "    print(f\"{artifact.name}: {artifact.age} лет\")"
   ]
  },
  {
   "cell_type": "code",
   "execution_count": 7,
   "id": "95b85364",
   "metadata": {},
   "outputs": [
    {
     "name": "stdout",
     "output_type": "stream",
     "text": [
      "\n",
      "Артефакты из Египта:\n",
      "Golden Mask\n",
      "Amulet of Anubis\n"
     ]
    }
   ],
   "source": [
    "print(\"\\nАртефакты из Египта:\")\n",
    "for artifact in collector.filter_by_origin(\"Egypt\"):\n",
    "    print(artifact.name)"
   ]
  },
  {
   "cell_type": "code",
   "execution_count": 8,
   "id": "9f4d5a38",
   "metadata": {},
   "outputs": [
    {
     "name": "stdout",
     "output_type": "stream",
     "text": [
      "\n",
      "Артефакты в обратном порядке:\n",
      "Amulet of Anubis\n",
      "Stone Statue\n",
      "Ancient Vase\n",
      "Golden Mask\n"
     ]
    }
   ],
   "source": [
    "print(\"\\nАртефакты в обратном порядке:\")\n",
    "for artifact in reversed(collector):\n",
    "    print(artifact.name)"
   ]
  },
  {
   "cell_type": "code",
   "execution_count": 9,
   "id": "bde5f604",
   "metadata": {},
   "outputs": [
    {
     "name": "stdout",
     "output_type": "stream",
     "text": [
      "\n",
      "Артефакт найден: Ancient Vase, 2000 лет, Greece\n"
     ]
    }
   ],
   "source": [
    "artifact = collector.find_by_name(\"Ancient Vase\")\n",
    "if artifact:\n",
    "    print(f\"\\nАртефакт найден: {artifact.name}, {artifact.age} лет, {artifact.origin}\")\n",
    "else:\n",
    "    print(\"\\nАртефакт не найден\")"
   ]
  },
  {
   "cell_type": "code",
   "execution_count": 10,
   "id": "f9babada",
   "metadata": {},
   "outputs": [
    {
     "name": "stdout",
     "output_type": "stream",
     "text": [
      "\n",
      "Самый древний артефакт: Amulet of Anubis (5000 лет)\n"
     ]
    }
   ],
   "source": [
    "oldest = collector.find_oldest()\n",
    "print(f\"\\nСамый древний артефакт: {oldest.name} ({oldest.age} лет)\")"
   ]
  }
 ],
 "metadata": {
  "kernelspec": {
   "display_name": "Python 3",
   "language": "python",
   "name": "python3"
  },
  "language_info": {
   "codemirror_mode": {
    "name": "ipython",
    "version": 3
   },
   "file_extension": ".py",
   "mimetype": "text/x-python",
   "name": "python",
   "nbconvert_exporter": "python",
   "pygments_lexer": "ipython3",
   "version": "3.12.4"
  }
 },
 "nbformat": 4,
 "nbformat_minor": 5
}
