{
 "cells": [
  {
   "cell_type": "markdown",
   "id": "c019d62c-fc6f-49c6-90c8-08d935853b68",
   "metadata": {},
   "source": [
    "#### Задача 1. \n",
    "\n",
    "Напишем класс - имитацию класса Token в spacy: у класса должен быть определенный набор атрибутов, создавать новые нельзя. По умолчанию все атрибуты, кроме text, устанавливаются в None, у класса есть методы для установления этих атрибутов (обычные методы экземпляра)."
   ]
  },
  {
   "cell_type": "code",
   "execution_count": 5,
   "id": "e3b0480d-8108-45c8-8a27-2a1a246bbca8",
   "metadata": {},
   "outputs": [],
   "source": [
    "class Token:\n",
    "    __slots__ = ('text', 'length', 'is_alpha', 'is_punct', 'is_digit')\n",
    "    def __init__(self, text, length=None, is_alpha=None, is_punct=None, is_digit=None):\n",
    "        self.text = text\n",
    "        self.set_length()\n",
    "        self.set_is_alpha()\n",
    "        self.set_is_punct()\n",
    "        self.set_is_digit()\n",
    "\n",
    "    def set_length(self):\n",
    "        self.length = len(self.text)\n",
    "\n",
    "    def set_is_alpha(self):\n",
    "        self.is_alpha = self.text.isalpha()\n",
    "    \n",
    "    def set_is_punct(self):\n",
    "        self.is_punct = all(char in '.,?!:\"' for char in self.text)\n",
    "    \n",
    "    def set_is_digit(self):\n",
    "        self.is_digit = self.text.isdigit()\n",
    "    \n",
    "    def __repr__(self):\n",
    "        return f\"Token(text={self.text}, length={self.length}, is_alpha={self.is_alpha}, is_punct={self.is_punct}, is_digit={self.is_digit})\\n\""
   ]
  },
  {
   "cell_type": "code",
   "execution_count": 7,
   "id": "73189640",
   "metadata": {},
   "outputs": [
    {
     "data": {
      "text/plain": [
       "Token(text=aisvnskavjd, length=11, is_alpha=True, is_punct=False, is_digit=False)"
      ]
     },
     "execution_count": 7,
     "metadata": {},
     "output_type": "execute_result"
    }
   ],
   "source": [
    "token = Token('aisvnskavjd')\n",
    "token"
   ]
  },
  {
   "cell_type": "code",
   "execution_count": 9,
   "id": "454c701f",
   "metadata": {},
   "outputs": [
    {
     "ename": "AttributeError",
     "evalue": "'Token' object has no attribute 'a'",
     "output_type": "error",
     "traceback": [
      "\u001b[1;31m---------------------------------------------------------------------------\u001b[0m",
      "\u001b[1;31mAttributeError\u001b[0m                            Traceback (most recent call last)",
      "Cell \u001b[1;32mIn[9], line 1\u001b[0m\n\u001b[1;32m----> 1\u001b[0m \u001b[43mtoken\u001b[49m\u001b[38;5;241;43m.\u001b[39;49m\u001b[43ma\u001b[49m \u001b[38;5;241m=\u001b[39m \u001b[38;5;241m3\u001b[39m\n",
      "\u001b[1;31mAttributeError\u001b[0m: 'Token' object has no attribute 'a'"
     ]
    }
   ],
   "source": [
    "token.a = 3"
   ]
  },
  {
   "cell_type": "markdown",
   "id": "e582d545-5b83-4d05-9b71-2a162d4ae920",
   "metadata": {
    "tags": []
   },
   "source": [
    "#### Задача 2. \n",
    "\n",
    "Добавим нашему токену функциональность: пусть при попытке обратиться к его атрибуту lemma, если таковой не существует, экземпляр класса автоматически вызывает лемматизатор (можно пользоваться pymorphy) и возвращает лемму. Если атрибут lemma уже есть, то достаточно вернуть его содержимое."
   ]
  },
  {
   "cell_type": "code",
   "execution_count": 1,
   "id": "ce9c94ec-b46e-4ed9-ae24-57aadc42f3a3",
   "metadata": {},
   "outputs": [],
   "source": [
    "import pymorphy3"
   ]
  },
  {
   "cell_type": "code",
   "execution_count": 37,
   "id": "fa48a769",
   "metadata": {},
   "outputs": [],
   "source": [
    "class Token:\n",
    "    __slots__ = ('text', 'length', 'is_alpha', 'is_punct', 'is_digit', '_lemma')\n",
    "    def __init__(self, text, length=None, is_alpha=None, is_punct=None, is_digit=None):\n",
    "        self.text = text\n",
    "        self.set_length()\n",
    "        self.set_is_alpha()\n",
    "        self.set_is_punct()\n",
    "        self.set_is_digit()\n",
    "        self._lemma = None\n",
    "\n",
    "    def set_length(self):\n",
    "        self.length = len(self.text)\n",
    "\n",
    "    def set_is_alpha(self):\n",
    "        self.is_alpha = self.text.isalpha()\n",
    "    \n",
    "    def set_is_punct(self):\n",
    "        self.is_punct = all(char in '.,?!:\"' for char in self.text)\n",
    "    \n",
    "    def set_is_digit(self):\n",
    "        self.is_digit = self.text.isdigit()\n",
    "    \n",
    "    def __getattr__(self, attr):\n",
    "        if attr == 'lemma':\n",
    "            if self._lemma == None:\n",
    "                morph = pymorphy3.MorphAnalyzer()\n",
    "                self._lemma = morph.parse(self.text)[0].normal_form\n",
    "            return self._lemma\n",
    "        else:\n",
    "            raise AttributeError\n",
    "\n",
    "    # def get_lemma(self):\n",
    "    #     if self._lemma is None:\n",
    "    #         morph = pymorphy3.MorphAnalyzer()\n",
    "    #         self._lemma = morph.parse(self.text)[0].normal_form\n",
    "    #     return self._lemma\n",
    "    \n",
    "    def set_lemma(self, attr):\n",
    "        self._lemma = attr\n",
    "\n",
    "    def __repr__(self):\n",
    "        return f\"Token(text={self.text}, length={self.length}, is_alpha={self.is_alpha}, is_punct={self.is_punct}, is_digit={self.is_digit})\\n\""
   ]
  },
  {
   "cell_type": "code",
   "execution_count": 38,
   "id": "08ba8ec2",
   "metadata": {},
   "outputs": [
    {
     "data": {
      "text/plain": [
       "Token(text=плачу, length=5, is_alpha=True, is_punct=False, is_digit=False)"
      ]
     },
     "execution_count": 38,
     "metadata": {},
     "output_type": "execute_result"
    }
   ],
   "source": [
    "token = Token('плачу')\n",
    "token"
   ]
  },
  {
   "cell_type": "code",
   "execution_count": 39,
   "id": "ba2a3908",
   "metadata": {},
   "outputs": [
    {
     "data": {
      "text/plain": [
       "'плач'"
      ]
     },
     "execution_count": 39,
     "metadata": {},
     "output_type": "execute_result"
    }
   ],
   "source": [
    "token.lemma"
   ]
  },
  {
   "cell_type": "code",
   "execution_count": 40,
   "id": "8d55b6c3",
   "metadata": {},
   "outputs": [
    {
     "ename": "AttributeError",
     "evalue": "'Token' object has no attribute 'lemma'",
     "output_type": "error",
     "traceback": [
      "\u001b[1;31m---------------------------------------------------------------------------\u001b[0m",
      "\u001b[1;31mAttributeError\u001b[0m                            Traceback (most recent call last)",
      "Cell \u001b[1;32mIn[40], line 1\u001b[0m\n\u001b[1;32m----> 1\u001b[0m \u001b[43mtoken\u001b[49m\u001b[38;5;241;43m.\u001b[39;49m\u001b[43mlemma\u001b[49m \u001b[38;5;241m=\u001b[39m \u001b[38;5;124m'\u001b[39m\u001b[38;5;124mabcd\u001b[39m\u001b[38;5;124m'\u001b[39m\n\u001b[0;32m      2\u001b[0m token\u001b[38;5;241m.\u001b[39mlemma\n",
      "\u001b[1;31mAttributeError\u001b[0m: 'Token' object has no attribute 'lemma'"
     ]
    }
   ],
   "source": [
    "token.lemma = 'abcd'\n",
    "token.lemma"
   ]
  },
  {
   "cell_type": "markdown",
   "id": "63c9bf48-1db1-4309-b1b9-93733f10e9a4",
   "metadata": {},
   "source": [
    "#### Задача 3. \n",
    "\n",
    "Перепишем задачу 2 с полноценным дескриптором Lemmatize."
   ]
  },
  {
   "cell_type": "code",
   "execution_count": 68,
   "id": "dfb9dc5d-2a6b-4d84-a12d-5a461bd6ad13",
   "metadata": {},
   "outputs": [],
   "source": [
    "class Lemmatize:\n",
    "    \"\"\"descriptor\"\"\"\n",
    "    def __get__(self, token, type=None):\n",
    "        if hasattr(token, '_lemma') and token._lemma is not None: # если есть атрибут _lemma и он не пустой, возвращаем _lemma\n",
    "            return token._lemma\n",
    "        else:\n",
    "            morph = pymorphy3.MorphAnalyzer() # в противном случае — задаём\n",
    "            token._lemma = morph.parse(token.text)[0].normal_form\n",
    "            return token._lemma\n",
    "\n",
    "    def __set__(self, token, value): # нельзя задать атрибут _lemma ручками\n",
    "        raise AttributeError(\"Can\\'t set!\")"
   ]
  },
  {
   "cell_type": "code",
   "execution_count": 69,
   "id": "6b1b4359",
   "metadata": {},
   "outputs": [],
   "source": [
    "class Token:\n",
    "    __slots__ = ('text', 'length', 'is_alpha', 'is_punct', 'is_digit', '_lemma')\n",
    "    lemma = Lemmatize() # при создании экзмепляра класса Token у него будет в атрибутах дескриптор\n",
    "\n",
    "    def __init__(self, text, length=None, is_alpha=None, is_punct=None, is_digit=None):\n",
    "        self.text = text\n",
    "        self.set_length()\n",
    "        self.set_is_alpha()\n",
    "        self.set_is_punct()\n",
    "        self.set_is_digit()\n",
    "        self._lemma = None\n",
    "\n",
    "    def set_length(self):\n",
    "        self.length = len(self.text)\n",
    "\n",
    "    def set_is_alpha(self):\n",
    "        self.is_alpha = self.text.isalpha()\n",
    "    \n",
    "    def set_is_punct(self):\n",
    "        self.is_punct = all(char in '.,?!:\"' for char in self.text)\n",
    "    \n",
    "    def set_is_digit(self):\n",
    "        self.is_digit = self.text.isdigit()\n",
    "\n",
    "    def __repr__(self):\n",
    "        return f\"Token(text={self.text}, length={self.length}, is_alpha={self.is_alpha}, is_punct={self.is_punct}, is_digit={self.is_digit})\\n\""
   ]
  },
  {
   "cell_type": "code",
   "execution_count": 70,
   "id": "67e2f6f7",
   "metadata": {},
   "outputs": [
    {
     "data": {
      "text/plain": [
       "Token(text=плачу, length=5, is_alpha=True, is_punct=False, is_digit=False)"
      ]
     },
     "execution_count": 70,
     "metadata": {},
     "output_type": "execute_result"
    }
   ],
   "source": [
    "token = Token('плачу')\n",
    "token"
   ]
  },
  {
   "cell_type": "code",
   "execution_count": 71,
   "id": "57ca963e",
   "metadata": {},
   "outputs": [
    {
     "data": {
      "text/plain": [
       "'плач'"
      ]
     },
     "execution_count": 71,
     "metadata": {},
     "output_type": "execute_result"
    }
   ],
   "source": [
    "token.lemma"
   ]
  },
  {
   "cell_type": "code",
   "execution_count": 72,
   "id": "709c288c",
   "metadata": {},
   "outputs": [
    {
     "ename": "AttributeError",
     "evalue": "Can't set!",
     "output_type": "error",
     "traceback": [
      "\u001b[1;31m---------------------------------------------------------------------------\u001b[0m",
      "\u001b[1;31mAttributeError\u001b[0m                            Traceback (most recent call last)",
      "Cell \u001b[1;32mIn[72], line 1\u001b[0m\n\u001b[1;32m----> 1\u001b[0m \u001b[43mtoken\u001b[49m\u001b[38;5;241;43m.\u001b[39;49m\u001b[43mlemma\u001b[49m \u001b[38;5;241m=\u001b[39m \u001b[38;5;124m'\u001b[39m\u001b[38;5;124mabcd\u001b[39m\u001b[38;5;124m'\u001b[39m\n",
      "Cell \u001b[1;32mIn[68], line 12\u001b[0m, in \u001b[0;36mLemmatize.__set__\u001b[1;34m(self, token, value)\u001b[0m\n\u001b[0;32m     11\u001b[0m \u001b[38;5;28;01mdef\u001b[39;00m \u001b[38;5;21m__set__\u001b[39m(\u001b[38;5;28mself\u001b[39m, token, value):\n\u001b[1;32m---> 12\u001b[0m     \u001b[38;5;28;01mraise\u001b[39;00m \u001b[38;5;167;01mAttributeError\u001b[39;00m(\u001b[38;5;124m\"\u001b[39m\u001b[38;5;124mCan\u001b[39m\u001b[38;5;130;01m\\'\u001b[39;00m\u001b[38;5;124mt set!\u001b[39m\u001b[38;5;124m\"\u001b[39m)\n",
      "\u001b[1;31mAttributeError\u001b[0m: Can't set!"
     ]
    }
   ],
   "source": [
    "token.lemma = 'abcd'"
   ]
  },
  {
   "cell_type": "markdown",
   "id": "21203f86-cea8-4da0-8f0e-eac0abf0f5ec",
   "metadata": {},
   "source": [
    "#### Задача 4. \n",
    "\n",
    "Напишите класс \"пациент\", у которого есть устанавливаемые атрибуты \"диагноз\" и \"температура\". Атрибут \"температура\" должен устанавливаться таким образом, чтобы пользователь не мог установить нереалистичное значение типа 15, даже используя синтаксис Patient.temperature = 15."
   ]
  },
  {
   "cell_type": "code",
   "execution_count": 144,
   "id": "0a3d04f0",
   "metadata": {},
   "outputs": [],
   "source": [
    "class Temperature:\n",
    "    \"\"\"descriptor\"\"\"\n",
    "    def __get__(self, person, type=None):\n",
    "        if person is not None:\n",
    "            if hasattr(person, '_temperature'):\n",
    "                return person._temperature\n",
    "        else:\n",
    "            raise AttributeError\n",
    "        return self\n",
    "    \n",
    "    def __set__(self, person, value):\n",
    "        if person is None: # запрет на определение метода через класс\n",
    "            raise AttributeError(\"Can\\'t set temperature at class-level!\")        \n",
    "        if value is None:\n",
    "            person._temperature = None\n",
    "        elif 30 <= value <= 42:\n",
    "            person._temperature = value\n",
    "        else:\n",
    "            print('Can\\'t set!')"
   ]
  },
  {
   "cell_type": "code",
   "execution_count": 145,
   "id": "0dabfdab-fe9e-4f5e-b188-203792008ddf",
   "metadata": {},
   "outputs": [],
   "source": [
    "class Patient:\n",
    "    temperature = Temperature()\n",
    "\n",
    "    def __init__(self, diagnosis, temperature=None):\n",
    "        self.diagnosis = diagnosis\n",
    "        self.__temperature = temperature\n",
    "    \n",
    "    def __repr__(self):\n",
    "        return f\"Patient(diagnosis={self.diagnosis}, temperature={self.temperature})\"\n",
    "    \n",
    "    def __setattr__(self, name, value):\n",
    "        if name == 'temperature' and isinstance(self, type):\n",
    "            raise AttributeError(\"Can\\'t set temperature at class-level!\")\n",
    "        super().__setattr__(name, value)"
   ]
  },
  {
   "cell_type": "code",
   "execution_count": 146,
   "id": "fcf05eca",
   "metadata": {},
   "outputs": [],
   "source": [
    "patient = Patient('flu', 37.5)"
   ]
  },
  {
   "cell_type": "code",
   "execution_count": 147,
   "id": "64965358",
   "metadata": {},
   "outputs": [
    {
     "data": {
      "text/plain": [
       "38"
      ]
     },
     "execution_count": 147,
     "metadata": {},
     "output_type": "execute_result"
    }
   ],
   "source": [
    "patient.temperature = 38\n",
    "patient.temperature"
   ]
  },
  {
   "cell_type": "code",
   "execution_count": 148,
   "id": "bad4a373",
   "metadata": {},
   "outputs": [
    {
     "name": "stdout",
     "output_type": "stream",
     "text": [
      "Can't set!\n"
     ]
    }
   ],
   "source": [
    "patient.temperature = 18"
   ]
  },
  {
   "cell_type": "code",
   "execution_count": 149,
   "id": "73635481",
   "metadata": {},
   "outputs": [],
   "source": [
    "Patient.temperature = 18"
   ]
  },
  {
   "cell_type": "markdown",
   "id": "4491d252-8d9d-4e1c-9233-d4dc707864b1",
   "metadata": {},
   "source": [
    "#### Задача 5. \n",
    "\n",
    "Вернемся к нашему классу Token (первому) и добавим ему метод для подсчета количества созданных токенов. Реализуйте два варианта: через статические методы и методы класса."
   ]
  },
  {
   "cell_type": "code",
   "execution_count": 151,
   "id": "9f371e58-0ef6-4218-b229-3a07c9009abe",
   "metadata": {
    "tags": []
   },
   "outputs": [],
   "source": [
    "class Lemmatize:\n",
    "    \"\"\"descriptor\"\"\"\n",
    "    def __get__(self, token, type=None):\n",
    "        if hasattr(token, '_lemma') and token._lemma is not None: # если есть атрибут _lemma и он не пустой, возвращаем _lemma\n",
    "            return token._lemma\n",
    "        else:\n",
    "            morph = pymorphy3.MorphAnalyzer() # в противном случае — задаём\n",
    "            token._lemma = morph.parse(token.text)[0].normal_form\n",
    "            return token._lemma\n",
    "\n",
    "    def __set__(self, token, value): # нельзя задать атрибут _lemma ручками\n",
    "        raise AttributeError(\"Can\\'t set!\")\n",
    "\n",
    "\n",
    "class Token:\n",
    "    __slots__ = ('text', 'length', 'is_alpha', 'is_punct', 'is_digit', '_lemma')\n",
    "    token_count = 0\n",
    "    lemma = Lemmatize()\n",
    "\n",
    "    def __init__(self, text, length=None, is_alpha=None, is_punct=None, is_digit=None):\n",
    "        self.text = text\n",
    "        self.set_length()\n",
    "        self.set_is_alpha()\n",
    "        self.set_is_punct()\n",
    "        self.set_is_digit()\n",
    "        self._lemma = None\n",
    "        Token.increment_token_count() # счетчик увеличивается каждый раз, когда создается экземпляр\n",
    "    \n",
    "    @classmethod\n",
    "    def increment_token_count(cls): # метод класса для увеличения счетчика токенов\n",
    "        cls.token_count += 1\n",
    "\n",
    "    @classmethod\n",
    "    def get_token_count(cls): # метод класса для получения текущего кол-ва токенов\n",
    "        return cls.token_count\n",
    "\n",
    "    def set_length(self):\n",
    "        self.length = len(self.text)\n",
    "\n",
    "    def set_is_alpha(self):\n",
    "        self.is_alpha = self.text.isalpha()\n",
    "    \n",
    "    def set_is_punct(self):\n",
    "        self.is_punct = all(char in '.,?!:\"' for char in self.text)\n",
    "    \n",
    "    def set_is_digit(self):\n",
    "        self.is_digit = self.text.isdigit()\n",
    "\n",
    "    def __repr__(self):\n",
    "        return f\"Token(text={self.text}, length={self.length}, is_alpha={self.is_alpha}, is_punct={self.is_punct}, is_digit={self.is_digit})\\n\""
   ]
  },
  {
   "cell_type": "code",
   "execution_count": 152,
   "id": "50f6f00b",
   "metadata": {},
   "outputs": [],
   "source": [
    "token1 = Token('плачу')\n",
    "token2 = Token('лечу')\n",
    "token3 = Token('стали')"
   ]
  },
  {
   "cell_type": "code",
   "execution_count": 153,
   "id": "70128157",
   "metadata": {},
   "outputs": [
    {
     "data": {
      "text/plain": [
       "3"
      ]
     },
     "execution_count": 153,
     "metadata": {},
     "output_type": "execute_result"
    }
   ],
   "source": [
    "Token.get_token_count()"
   ]
  },
  {
   "cell_type": "code",
   "execution_count": 154,
   "id": "f61cfd13",
   "metadata": {},
   "outputs": [],
   "source": [
    "class Lemmatize:\n",
    "    \"\"\"descriptor\"\"\"\n",
    "    def __get__(self, token, type=None):\n",
    "        if hasattr(token, '_lemma') and token._lemma is not None: # если есть атрибут _lemma и он не пустой, возвращаем _lemma\n",
    "            return token._lemma\n",
    "        else:\n",
    "            morph = pymorphy3.MorphAnalyzer() # в противном случае — задаём\n",
    "            token._lemma = morph.parse(token.text)[0].normal_form\n",
    "            return token._lemma\n",
    "\n",
    "    def __set__(self, token, value): # нельзя задать атрибут _lemma ручками\n",
    "        raise AttributeError(\"Can\\'t set!\")\n",
    "\n",
    "\n",
    "class Token:\n",
    "    __slots__ = ('text', 'length', 'is_alpha', 'is_punct', 'is_digit', '_lemma')\n",
    "    token_count = 0\n",
    "    lemma = Lemmatize()\n",
    "\n",
    "    def __init__(self, text, length=None, is_alpha=None, is_punct=None, is_digit=None):\n",
    "        self.text = text\n",
    "        self.set_length()\n",
    "        self.set_is_alpha()\n",
    "        self.set_is_punct()\n",
    "        self.set_is_digit()\n",
    "        self._lemma = None\n",
    "        Token.increment_token_count() # счетчик увеличивается каждый раз, когда создается экземпляр\n",
    "    \n",
    "    @staticmethod\n",
    "    def increment_token_count(): # метод класса для увеличения счетчика токенов\n",
    "        Token.token_count += 1\n",
    "\n",
    "    @staticmethod\n",
    "    def get_token_count(): # метод класса для получения текущего кол-ва токенов\n",
    "        return Token.token_count\n",
    "\n",
    "    def set_length(self):\n",
    "        self.length = len(self.text)\n",
    "\n",
    "    def set_is_alpha(self):\n",
    "        self.is_alpha = self.text.isalpha()\n",
    "    \n",
    "    def set_is_punct(self):\n",
    "        self.is_punct = all(char in '.,?!:\"' for char in self.text)\n",
    "    \n",
    "    def set_is_digit(self):\n",
    "        self.is_digit = self.text.isdigit()\n",
    "\n",
    "    def __repr__(self):\n",
    "        return f\"Token(text={self.text}, length={self.length}, is_alpha={self.is_alpha}, is_punct={self.is_punct}, is_digit={self.is_digit})\\n\""
   ]
  },
  {
   "cell_type": "code",
   "execution_count": 155,
   "id": "36d35621",
   "metadata": {},
   "outputs": [],
   "source": [
    "token1 = Token('плачу')\n",
    "token2 = Token('лечу')\n",
    "token3 = Token('стали')"
   ]
  },
  {
   "cell_type": "code",
   "execution_count": 156,
   "id": "b7263b2b",
   "metadata": {},
   "outputs": [
    {
     "data": {
      "text/plain": [
       "3"
      ]
     },
     "execution_count": 156,
     "metadata": {},
     "output_type": "execute_result"
    }
   ],
   "source": [
    "Token.get_token_count()"
   ]
  }
 ],
 "metadata": {
  "kernelspec": {
   "display_name": "Python 3",
   "language": "python",
   "name": "python3"
  },
  "language_info": {
   "codemirror_mode": {
    "name": "ipython",
    "version": 3
   },
   "file_extension": ".py",
   "mimetype": "text/x-python",
   "name": "python",
   "nbconvert_exporter": "python",
   "pygments_lexer": "ipython3",
   "version": "3.12.4"
  }
 },
 "nbformat": 4,
 "nbformat_minor": 5
}
