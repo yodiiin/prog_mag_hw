{
 "cells": [
  {
   "cell_type": "markdown",
   "id": "3aeca3a5-940d-4215-80f8-6388eb48e484",
   "metadata": {},
   "source": [
    "#### Задача 1. \n",
    "\n",
    "С помощью модуля time реализуйте декоратор, который будет высчитывать время выполнения функции."
   ]
  },
  {
   "cell_type": "code",
   "execution_count": 7,
   "id": "ae317c56-0fe9-461e-a7fc-4f4821a4aac6",
   "metadata": {},
   "outputs": [],
   "source": [
    "from time import time\n",
    "\n",
    "'''decorator'''\n",
    "def timing(func):\n",
    "    def wrapper(*args, **kwargs):\n",
    "        start_time = time()\n",
    "        res = func(*args, **kwargs)\n",
    "        end_time = time()\n",
    "        exec_time = end_time - start_time\n",
    "        print(f'Время выполнения функции {func.__name__}: {exec_time:.5f} сек.')\n",
    "        return res\n",
    "    return wrapper"
   ]
  },
  {
   "cell_type": "code",
   "execution_count": 8,
   "id": "4f0fe7fc",
   "metadata": {},
   "outputs": [
    {
     "name": "stdout",
     "output_type": "stream",
     "text": [
      "Время выполнения функции example_func: 0.10699 сек.\n"
     ]
    }
   ],
   "source": [
    "@timing\n",
    "def example_func(n):\n",
    "    for i in range(1, n):\n",
    "        pass\n",
    "\n",
    "example_func(10000000)"
   ]
  },
  {
   "cell_type": "markdown",
   "id": "bb1c47da-f6d7-4aec-b94b-fed9014def15",
   "metadata": {},
   "source": [
    "#### Задача 2. \n",
    "\n",
    "Перепишите класс Token с использованием декоратора dataclass."
   ]
  },
  {
   "cell_type": "code",
   "execution_count": 9,
   "id": "a875381d",
   "metadata": {},
   "outputs": [],
   "source": [
    "import pymorphy3\n",
    "from dataclasses import dataclass, field"
   ]
  },
  {
   "cell_type": "code",
   "execution_count": 18,
   "id": "313a477f-c41d-454b-8367-69377d5ba96c",
   "metadata": {},
   "outputs": [],
   "source": [
    "class Lemmatize:\n",
    "    \"\"\"descriptor\"\"\"\n",
    "    def __get__(self, token, type=None):\n",
    "        if hasattr(token, '_lemma') and token._lemma is not None: # если есть атрибут _lemma и он не пустой, возвращаем _lemma\n",
    "            return token._lemma\n",
    "        else:\n",
    "            morph = pymorphy3.MorphAnalyzer() # в противном случае — задаём\n",
    "            token._lemma = morph.parse(token.text)[0].normal_form\n",
    "            return token._lemma\n",
    "\n",
    "    def __set__(self, token, value): # нельзя задать атрибут _lemma ручками\n",
    "        raise AttributeError(\"Can\\'t set!\")\n",
    "\n",
    "@dataclass\n",
    "class Token:\n",
    "    # __slots__ = ('text', 'length', 'is_alpha', 'is_punct', 'is_digit', '_lemma')\n",
    "    # token_count = 0\n",
    "    # lemma = Lemmatize()\n",
    "    ''' С помощью field(init=False) убираем поля из автоматической инициализации,\n",
    "    поскольку они будут задаваться потом на основе поля text '''    \n",
    "    text: str\n",
    "    length: int = field(init=False)\n",
    "    is_alpha: bool = field(init=False)\n",
    "    is_punct: bool = field(init=False)\n",
    "    is_digit: bool = field(init=False)\n",
    "    ''' Задаем полю _lemma дефолтное значение, убираем из автомат. инициализации\n",
    "    и строкового представления (т.к. это скрытый атрибут и он не должен быть виден) '''\n",
    "    _lemma: str = field(default=None, init=False, repr=False)\n",
    "\n",
    "    lemma = Lemmatize()\n",
    "    token_count: int = 0\n",
    "\n",
    "    # def __init__(self, text, length=None, is_alpha=None, is_punct=None, is_digit=None):\n",
    "    ''' Инициализируем методы для вычисления length, is_alpha и т.д.'''\n",
    "    def __post_init__(self):\n",
    "        self.set_length()\n",
    "        self.set_is_alpha()\n",
    "        self.set_is_punct()\n",
    "        self.set_is_digit()\n",
    "        Token.increment_token_count()\n",
    "    \n",
    "    @classmethod\n",
    "    def increment_token_count(cls):\n",
    "        cls.token_count += 1\n",
    "\n",
    "    @classmethod\n",
    "    def get_token_count(cls):\n",
    "        return cls.token_count\n",
    "\n",
    "    def set_length(self):\n",
    "        self.length = len(self.text)\n",
    "\n",
    "    def set_is_alpha(self):\n",
    "        self.is_alpha = self.text.isalpha()\n",
    "    \n",
    "    def set_is_punct(self):\n",
    "        self.is_punct = all(char in '.,?!:\"' for char in self.text)\n",
    "    \n",
    "    def set_is_digit(self):\n",
    "        self.is_digit = self.text.isdigit()\n",
    "\n",
    "    def __repr__(self):\n",
    "        return f\"Token(text={self.text}, length={self.length}, is_alpha={self.is_alpha}, is_punct={self.is_punct}, is_digit={self.is_digit})\\n\""
   ]
  },
  {
   "cell_type": "code",
   "execution_count": 19,
   "id": "f4a83523",
   "metadata": {},
   "outputs": [
    {
     "data": {
      "text/plain": [
       "Token(text=стали, length=5, is_alpha=True, is_punct=False, is_digit=False)"
      ]
     },
     "execution_count": 19,
     "metadata": {},
     "output_type": "execute_result"
    }
   ],
   "source": [
    "token = Token('стали')\n",
    "token"
   ]
  },
  {
   "cell_type": "code",
   "execution_count": 20,
   "id": "4388c662",
   "metadata": {},
   "outputs": [
    {
     "data": {
      "text/plain": [
       "'стать'"
      ]
     },
     "execution_count": 20,
     "metadata": {},
     "output_type": "execute_result"
    }
   ],
   "source": [
    "token.lemma"
   ]
  },
  {
   "cell_type": "markdown",
   "id": "b62e85a9-0a1d-4b69-a779-f1c7ac67ea9f",
   "metadata": {},
   "source": [
    "#### Задача 3.\n",
    "\n",
    "Расширьте декоратор таким образом, чтобы а) элементов в кортеже могло быть сколько угодно и они суммировались все б) декоратор был рекурсивным и умел отыскивать самые вложенные кортежи/списки и складывать их элементы, например: \n",
    "[[1, 2], [3, 4]], [[3, 4]] = 17\n",
    "\n",
    "При этом вложенные числа должны быть все на одном уровне (то есть, не может оказаться, чтобы в списке был и список, и число)."
   ]
  },
  {
   "cell_type": "code",
   "execution_count": 28,
   "id": "7b4b85ae",
   "metadata": {},
   "outputs": [],
   "source": [
    "def pairwise_sum_dec(func):\n",
    "    def wrapper(pairs):\n",
    "        def recursive_sum(item):\n",
    "            if isinstance(item, (list, tuple)): # если текущий элемент — список/кортеж, итерируемся по его элементам\n",
    "                if all(isinstance(subitem, (int, float)) for subitem in item): # если внутри числа, то суммируем их\n",
    "                    return sum(item)\n",
    "                elif all(isinstance(subitem, (list, tuple)) for subitem in item): # если внутри списки/кортежи, то снова вызываем recursive_sum()\n",
    "                    return sum(recursive_sum(subitem) for subitem in item)\n",
    "                else:\n",
    "                    raise ValueError('Все элементы должны быть либо числами, либо списками/кортежами.')\n",
    "            elif isinstance(item, (int, float)): # если текущий элемент — число, возвращаем его\n",
    "                return item\n",
    "            else:\n",
    "                raise ValueError('В функцию можно передать объект, содержащий только числа, списки и/или кортежи.')\n",
    "        \n",
    "        sums = [recursive_sum(pair) for pair in pairs] # для каждого pair вызываем recursive_sum(), результаты складываем в список sums\n",
    "        return func(*sums)\n",
    "    return wrapper"
   ]
  },
  {
   "cell_type": "code",
   "execution_count": 29,
   "id": "d2fd9f22",
   "metadata": {},
   "outputs": [
    {
     "name": "stdout",
     "output_type": "stream",
     "text": [
      "17\n"
     ]
    }
   ],
   "source": [
    "@pairwise_sum_dec\n",
    "def summ(*args):\n",
    "    return sum(args)\n",
    "\n",
    "res = summ([[[1, 2], [3, 4]], [[3, 4]]])\n",
    "print(res)"
   ]
  }
 ],
 "metadata": {
  "kernelspec": {
   "display_name": "Python 3",
   "language": "python",
   "name": "python3"
  },
  "language_info": {
   "codemirror_mode": {
    "name": "ipython",
    "version": 3
   },
   "file_extension": ".py",
   "mimetype": "text/x-python",
   "name": "python",
   "nbconvert_exporter": "python",
   "pygments_lexer": "ipython3",
   "version": "3.12.4"
  }
 },
 "nbformat": 4,
 "nbformat_minor": 5
}
