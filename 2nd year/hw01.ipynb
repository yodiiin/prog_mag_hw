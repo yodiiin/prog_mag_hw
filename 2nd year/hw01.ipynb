{
 "cells": [
  {
   "cell_type": "markdown",
   "id": "a9659578-1834-43b9-bb27-0cb3b6a9bb32",
   "metadata": {},
   "source": [
    "#### Задача 1 (10 баллов). \n",
    "\n",
    "Напишем мини-стратегическую игру, в которой игроку предлагается управлять городом (SimCity видели когда-нибудь?) У нас есть собственно класс \"город\", внутри города есть постройки разных типов, которые мы, как градоправитель, строим. Также у города есть атрибуты: уровень счастья жителей, уровень экологии, образования, миграции и так далее (на что вашей фантазии хватит). Постройки к этим атрибутам добавляют и прибавляют баллы. Можно завести тип постройки, которая на каждом ходе игры приносит в городской бюджет деньги (налоговая служба?.. заводы?). Постройки необходимо реализовать с помощью наследования, у некоторых построек могут быть свои методы, например, больница может устраивать медосмотры и вакцинации и поднимать этим уровень благосостояния жителей, а на заводе с рандомной вероятностью может случиться авария, которая понизит экологию. Не забудьте реализовать головной класс \"игра\", в котором будет метод play, можно в нем хранить и городской бюджет. \n",
    "\n",
    "Фантазия приветствуется: чем оригинальнее будет ваша игра, тем выше шанс, что я поставлю дополнительный балл. "
   ]
  },
  {
   "cell_type": "code",
   "execution_count": 2,
   "id": "114fbe32",
   "metadata": {},
   "outputs": [],
   "source": [
    "from random import randint, uniform"
   ]
  },
  {
   "cell_type": "code",
   "execution_count": null,
   "id": "1b67a71f",
   "metadata": {},
   "outputs": [],
   "source": [
    "class Building:\n",
    "    def __init__(self, name, cost, maintenance, tax_income=0, happiness_boost=0, ecology_impact=0):\n",
    "        self.name = name\n",
    "        self.cost = cost\n",
    "        self.maintenance = maintenance\n",
    "        self.tax_income = tax_income\n",
    "        self.happiness_boost = happiness_boost\n",
    "        self.ecology_impact = ecology_impact\n",
    "    \n",
    "    def operate(self, city):\n",
    "        city.budget += self.tax_income\n",
    "        city.happiness += self.happiness_boost\n",
    "        city.ecology -= self.ecology_impact\n",
    "        city.budget -= self.maintenance\n",
    "        print(f'{self.name}:\\nПоступило в бюджет с налогов: {self.tax_income}\\nОбслуживание')\n"
   ]
  },
  {
   "cell_type": "code",
   "execution_count": null,
   "id": "431fe658",
   "metadata": {},
   "outputs": [],
   "source": [
    "class Housing(Building):\n",
    "    def __init__(self, name, cost, maintenance, residents):\n",
    "        super().__init__(name, cost, maintenance) # импортируем конструктор родительского класса и добавляем новые атрибуты\n",
    "        self.residents = residents\n",
    "        self.tax_rate = 1.4\n",
    "    \n",
    "    def operate(self, city):\n",
    "        income = self.residents * self.tax_rate # налоги с жильцов идут в бюджет\n",
    "        city.budget += income\n",
    "        city.population += self.residents\n",
    "        city.happiness += 0.9\n",
    "        resident = 'жителей'\n",
    "        x = self.residents % 10\n",
    "        xx = self.residents % 100\n",
    "        if not 11 <= xx < 15:\n",
    "            if x == 1:\n",
    "                resident = 'житель'\n",
    "            elif x in {2, 3, 4}:\n",
    "                resident = 'жителя'\n",
    "        print(f'Жилое здание {self.name} построено.\\n{self.residents} {resident} добавлено.\\nБюджет города: {city.budget}.')\n"
   ]
  },
  {
   "cell_type": "code",
   "execution_count": null,
   "id": "40760cef",
   "metadata": {},
   "outputs": [],
   "source": [
    "# магазины, супермаркеты, аптеки и т.п.\n",
    "class Commerce(Building):\n",
    "    def __init__(self, name, cost, maintenance):\n",
    "        super().__init__(name, cost, maintenance)\n",
    "        self.tax_income = uniform(100.0, 5000.0)\n",
    "        self.tax_rate = 1.9\n",
    "\n",
    "    def operate(self, city):\n",
    "        income = self.tax_income * self.tax_rate\n",
    "        city.budget += income\n",
    "        city.happiness += 0.85\n",
    "        print(f'Коммерческое здание {self.name} успешно построено.\\nБюджет города: {city.budget}.\\nУровень счастья жителей города повысился до {city.happiness}.')"
   ]
  },
  {
   "cell_type": "code",
   "execution_count": null,
   "id": "e3246c01",
   "metadata": {},
   "outputs": [],
   "source": [
    "class Police(Building):\n",
    "    def __init__(self, name, cost, maintenance, crime_reduction):\n",
    "        super().__init__(name, cost, maintenance)\n",
    "        self.crime_reduction = 1\n",
    "    \n",
    "    def operate(self, city):\n",
    "        city.crime -= self.crime_reduction\n",
    "        if city.crime < 0:\n",
    "            city.crime = 0\n",
    "        print(f'Уровень преступности снизился на {self.crime_reduction}.')"
   ]
  },
  {
   "cell_type": "code",
   "execution_count": null,
   "id": "452c2e4e",
   "metadata": {},
   "outputs": [],
   "source": [
    "class Hospital(Building):\n",
    "    def operate(self, city):\n",
    "        city.happiness += 0.6\n",
    "        print(f'Лечение насиления успешно выполнено. Уровень счастья поднялся на 20.')"
   ]
  },
  {
   "cell_type": "code",
   "execution_count": null,
   "id": "a3d9d57c",
   "metadata": {},
   "outputs": [],
   "source": [
    "class School(Building):\n",
    "    def __init__(self, name, cost, maintenance):\n",
    "        super().__init__(name, cost, maintenance) # импортируем конструктор родительского класса и добавляем атрибуты\n",
    "        self.education = 1\n",
    "    \n",
    "    def operate(self, city):\n",
    "        city.education += self.education\n",
    "        city.happiness += 0.7\n",
    "        print(f'Учебное заведение \"{self.name}\" успешно построено.\\nУровень образования изменился до {self.education}.')"
   ]
  },
  {
   "cell_type": "code",
   "execution_count": null,
   "id": "9f9361e1",
   "metadata": {},
   "outputs": [],
   "source": [
    "# театры, кино, мероприятия\n",
    "class Leisure(Building):\n",
    "    # def __init__(self, name, cost, maintenance):\n",
    "    #     super().__init__(name, cost, maintenance) # импортируем конструктор родительского класса и добавляем атрибуты\n",
    "    #     self.education = 1\n",
    "    \n",
    "    def operate(self, city):\n",
    "        city.happiness += 0.75\n",
    "        print(f'Здание \"{self.name}\" успешно построено.\\nУровень счастья жителей города изменился до {self.happiness}.')"
   ]
  },
  {
   "cell_type": "code",
   "execution_count": null,
   "id": "a49768d7",
   "metadata": {},
   "outputs": [],
   "source": [
    "class Factory(Building):\n",
    "    # def __init__(self, name, cost, maintenance):\n",
    "    #     super().__init__(name, cost, maintenance)\n",
    "    \n",
    "    def operate(self, city):\n",
    "        city.budget += 500\n",
    "        city.ecology -= 10\n",
    "        if uniform(0.0, 1.0) < 0.1:\n",
    "            city.ecology -= 20\n",
    "            print(f'Произошла авария. Уровень экологии снизился на 20.')\n",
    "            # return\n",
    "        print(f'Завод {self.name} успешно построен. Уровень экологии снизился на 10.\\nБюджет города: {city.budget}.')"
   ]
  },
  {
   "cell_type": "code",
   "execution_count": null,
   "id": "6e931a0b",
   "metadata": {},
   "outputs": [],
   "source": [
    "# class TaxOffice(Building):\n",
    "#     def collect_taxes(self, city):\n"
   ]
  },
  {
   "cell_type": "code",
   "execution_count": null,
   "id": "83c5507f",
   "metadata": {},
   "outputs": [],
   "source": [
    "class City:\n",
    "    # buildings = 0\n",
    "    def __init__(self, name, budget):\n",
    "        self.name = name\n",
    "        self.budget = budget\n",
    "        self.population = 0\n",
    "        self.happiness = 0.5 # 0-1\n",
    "        self.ecology = 0.5 # 0-100\n",
    "        self.education = 0.5\n",
    "        self.migration = 0 # информация о притоке или оттоке населения\n",
    "        self.crime = 0\n",
    "        self.buildings = [] # список построек\n",
    "    \n",
    "    def add_building(self, building):\n",
    "        if self.budget >= building.cost:\n",
    "            self.buildings.append(building)\n",
    "            self.budget -= building.cost\n",
    "            print(f'Здание {building.name} построено.\\nБюджет города: {self.budget}.')\n",
    "        else:\n",
    "            print('Недостаточно средств бюджета для постройки здания.')\n",
    "    \n",
    "    def operate_buildings(self): # метод для обслуживания построек\n",
    "        for building in self.buildings:\n",
    "            building.operate(self)\n",
    "            self.budget -= building.maintenance\n",
    "            print(f'Обслуживание здания \"{building.name}\" стоило {building.maintenance}.\\nБюджет города: {self.budget}.')\n",
    "    \n",
    "    def show_city_status(self):\n",
    "        print(f'\\nГород: {self.name}')\n",
    "        print(f'Бюджет города {self.name}: {self.budget}')\n",
    "        print(f'Население: {self.population}')\n",
    "        print(f'Уровень счастья: {self.happiness}')\n",
    "        print(f'Уровень экологии: {self.ecology}')\n",
    "        print(f'Уровень образования: {self.education}')\n",
    "        print(f'Уровень преступности: {self.crime}')\n",
    "        print(f'Уровень миграции: {self.migration}')\n",
    "        print(f'Постройки города: {', '.join(self.buildings)}')"
   ]
  },
  {
   "cell_type": "code",
   "execution_count": null,
   "id": "a8a0aa7b-99f9-4e92-879e-570d9e21a98b",
   "metadata": {},
   "outputs": [],
   "source": [
    "class Game:\n",
    "    def __init__(self):\n",
    "        self.city = City(\"Норт-Вилладж\", 1000) # создаем экземпляр класса \"Город\" (сам город)\n",
    "    \n",
    "    def play(self):\n",
    "        commands = [\n",
    "            '1. Построить жилье',\n",
    "            '2. Построить мед.учреждение',\n",
    "            '3. Построить полицейский участок',\n",
    "            '4. Построить коммерческое здание',\n",
    "            '5. Построить больницу',\n",
    "            '6. Построить учебное заведение',\n",
    "            '7. Построить развлекательное здание',\n",
    "            '8. Устроить развлекательное мероприятие в городе',\n",
    "            '9. Показать статус города',\n",
    "            '10. Выход']\n",
    "        \n",
    "        while True:\n",
    "            print('\\n'.join(commands))\n",
    "            command = input('Какое действие хотите выполнить?')\n",
    "            if command == '1':\n",
    "                house = Housing('Жилой дом', 1000, 100, 20)\n",
    "                self.city.add_building(house)\n",
    "            elif command == '2':\n",
    "                hospital = Hospital('Больница', )\n",
    "                \n"
   ]
  }
 ],
 "metadata": {
  "kernelspec": {
   "display_name": "Python 3 (ipykernel)",
   "language": "python",
   "name": "python3"
  },
  "language_info": {
   "codemirror_mode": {
    "name": "ipython",
    "version": 3
   },
   "file_extension": ".py",
   "mimetype": "text/x-python",
   "name": "python",
   "nbconvert_exporter": "python",
   "pygments_lexer": "ipython3",
   "version": "3.12.4"
  }
 },
 "nbformat": 4,
 "nbformat_minor": 5
}
