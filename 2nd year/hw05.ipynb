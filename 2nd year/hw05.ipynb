{
 "cells": [
  {
   "cell_type": "markdown",
   "id": "a80fbcc4-ae71-49ff-9deb-90bf4a65b584",
   "metadata": {},
   "source": [
    "#### Задача 1 (10 баллов). \n",
    "\n",
    "Напишите программу, которая будет автоматически обрабатывать сырой корпус текстов. Что это должно быть:\n",
    "\n",
    "- у нас есть некоторое количество текстовых файлов, которые лежат рассортированными по папкам. Вложенных подпапок может быть много. \n",
    "- мы хотим вытащить тексты из всех этих файлов, разобрать их (можно использовать парсер spacy или stanza) и позаписать в новой директории одноименные conllu. \n",
    "- Пользователь при старте программы указывает путь к главной директории исходных файлов и желаемое название папки с аутпутом. Мы должны: а) проверить, что директория с исходниками существует; б) что пользователь не ввел название, в котором есть :, ? и подобные символы, которые запрещены системой в названиях файлов. \n",
    "- метод, который будет заниматься открыванием файлов и считыванием текста из них, должен не вываливать ошибку в случае, если у нас файл не в той кодировке, а только делать предупреждение и пропускать файл. \n",
    "- при этом должны вестись логи с именами пропущенных файлов. Логи записываем в errors.txt.\n",
    "- естественно, все должно быть в классах. Примерная структура может быть такой:"
   ]
  },
  {
   "cell_type": "code",
   "execution_count": 1,
   "id": "bb04f4cf",
   "metadata": {},
   "outputs": [],
   "source": [
    "import os\n",
    "# from pathlib import Path\n",
    "import re\n",
    "import spacy\n",
    "from conllu import serializer\n",
    "from conllu import TokenList\n",
    "import logging\n",
    "\n",
    "# также я отдельно установила модель ru_core_news_sm"
   ]
  },
  {
   "cell_type": "code",
   "execution_count": 2,
   "id": "d3afb2d6-da59-456f-8d65-0c4e2b87aa5f",
   "metadata": {},
   "outputs": [],
   "source": [
    "class CorpusCreator:\n",
    "    def __init__(self, input_dir, output_dir):\n",
    "\n",
    "        '''инициализируем пути'''\n",
    "        self.input_dir = os.path.abspath(input_dir)\n",
    "        self.output_dir = os.path.abspath(output_dir)\n",
    "                \n",
    "        '''проверки на существование директории и допустимые символы'''\n",
    "        if not os.path.isdir(input_dir):\n",
    "            raise ValueError('Указанной директории не существует.')\n",
    "        \n",
    "        invalid_chars = r'[<>?*\"]'\n",
    "        if re.search(invalid_chars, self.output_dir):\n",
    "            raise ValueError('В названии папки для выходных данных содержатся недопустимые символы.')\n",
    "        \n",
    "\n",
    "        os.makedirs(output_dir, exist_ok=True) # создаем выходную директорию, если её нет\n",
    "\n",
    "        '''заводим файл с логами'''\n",
    "        logging.basicConfig(\n",
    "            level=logging.WARNING, # записываются логи предупреждения и ошибки\n",
    "            filename=os.path.join(self.output_dir, 'errors.txt'), \n",
    "            filemode='w', \n",
    "            format='%(asctime)s — %(message)s'\n",
    "            )\n",
    "        \n",
    "        self.nlp = spacy.load('ru_core_news_sm')\n",
    "\n",
    "    def openfile(self, file_path):\n",
    "        try:\n",
    "            with open(file_path, 'r', encoding='utf-8') as file:\n",
    "                return file.read()\n",
    "        except UnicodeEncodeError:\n",
    "            logging.warning(f'Неверная кодировка файла {file_path}. Файл пропущен.')\n",
    "            return None\n",
    "    \n",
    "    def parse(self, text):\n",
    "        return self.nlp(text)\n",
    "        \n",
    "    def writefile(self, data, output_file):\n",
    "        with open(output_file, 'w', encoding='utf-8') as file:\n",
    "            for sent in data.sents:\n",
    "                conllu_data = []\n",
    "                for token in sent:\n",
    "                    feats = str(token.morph) if token.morph else \"_\"\n",
    "                    conllu_data.append({\n",
    "                        'id': token.i + 1,\n",
    "                        'form': token.text,\n",
    "                        'lemma': token.lemma_,\n",
    "                        'upostag': token.pos_,\n",
    "                        'xpostag': '_',\n",
    "                        'feats': feats,\n",
    "                        'head': token.head.i + 1 if token.head.i != token.i else 0,\n",
    "                        'deprel': token.dep_,\n",
    "                        'deps': '_',\n",
    "                        'misc': '_',\n",
    "                    })\n",
    "                \n",
    "                token_list = TokenList(conllu_data, metadata={'text': sent.text})\n",
    "                file.write(serializer.serialize(token_list) + \"\\n\\n\")\n",
    "    \n",
    "    def process(self):\n",
    "        '''os.walk() возвращает кортеж, состоящий из:\n",
    "        1. root: текущий путь директории, которую обходит os.walk()\n",
    "        2. _ : список подпапок текущей директории (нам не нужен этот список, поэтому никак его не обозначаем)\n",
    "        3. files: файлы, находящиеся в текущей директории'''\n",
    "        for root, _, files in os.walk(self.input_dir):\n",
    "            for file_name in files:                             # итерируемся по каждому файлу (под)директорий\n",
    "                input_file_path = os.path.join(root, file_name) # склеиваем название файла с остальным путем и получаем входной путь\n",
    "        \n",
    "                relative_path = os.path.relpath(input_file_path, self.input_dir)\n",
    "                file_name = os.path.splitext(os.path.basename(input_file_path))[0]  # имя файла без расширения\n",
    "                output_file_path = os.path.join(\n",
    "                    self.output_dir, os.path.splitext(relative_path)[0] + f'{file_name}.conllu'\n",
    "                )\n",
    "\n",
    "                os.makedirs(os.path.dirname(output_file_path), exist_ok=True)   # создаем промежуточные директории для выходного файла\n",
    "\n",
    "                text = self.openfile(input_file_path)\n",
    "                if text is None:\n",
    "                    continue\n",
    "\n",
    "                parsed_data = self.parse(text)\n",
    "                self.writefile(parsed_data, output_file_path)\n",
    "                print(f'Обработан файл: {input_file_path} ====> {output_file_path}')\n"
   ]
  },
  {
   "cell_type": "code",
   "execution_count": 3,
   "id": "10453b46",
   "metadata": {},
   "outputs": [],
   "source": [
    "input_dir = r\"C:\\Users\\PC\\универ\\mag\\prog_mag_hw\\2nd year\\texts\"\n",
    "output_dir = r\"C:\\Users\\PC\\универ\\mag\\prog_mag_hw\\2nd year\\corpus\""
   ]
  },
  {
   "cell_type": "code",
   "execution_count": 4,
   "id": "c731ebce",
   "metadata": {},
   "outputs": [],
   "source": [
    "corpus_creator = CorpusCreator(input_dir, output_dir)"
   ]
  },
  {
   "cell_type": "code",
   "execution_count": 5,
   "id": "14d478ca",
   "metadata": {},
   "outputs": [
    {
     "name": "stdout",
     "output_type": "stream",
     "text": [
      "Обработан файл: C:\\Users\\PC\\универ\\mag\\prog_mag_hw\\2nd year\\texts\\file1.txt ====> C:\\Users\\PC\\универ\\mag\\prog_mag_hw\\2nd year\\corpus\\file1file1.conllu\n",
      "Обработан файл: C:\\Users\\PC\\универ\\mag\\prog_mag_hw\\2nd year\\texts\\file2.txt ====> C:\\Users\\PC\\универ\\mag\\prog_mag_hw\\2nd year\\corpus\\file2file2.conllu\n",
      "Обработан файл: C:\\Users\\PC\\универ\\mag\\prog_mag_hw\\2nd year\\texts\\folder1\\file3.txt ====> C:\\Users\\PC\\универ\\mag\\prog_mag_hw\\2nd year\\corpus\\folder1\\file3file3.conllu\n",
      "Обработан файл: C:\\Users\\PC\\универ\\mag\\prog_mag_hw\\2nd year\\texts\\folder1\\folder2\\subfolder\\file4.txt ====> C:\\Users\\PC\\универ\\mag\\prog_mag_hw\\2nd year\\corpus\\folder1\\folder2\\subfolder\\file4file4.conllu\n"
     ]
    }
   ],
   "source": [
    "corpus_creator.process()"
   ]
  },
  {
   "cell_type": "markdown",
   "id": "9ad79d93-c210-4e5b-85ac-f9be4a7a4210",
   "metadata": {},
   "source": [
    "На дополнительный балл: изучите библиотеку argparse и используйте ее в своей программе таким образом, чтобы ее можно было вызывать с параметрами из консоли. То есть, в консоли пишете что-то типа: \n",
    "    \n",
    "    python mycorpusreader.py C:\\mycorpusraw output"
   ]
  }
 ],
 "metadata": {
  "kernelspec": {
   "display_name": "Python 3",
   "language": "python",
   "name": "python3"
  },
  "language_info": {
   "codemirror_mode": {
    "name": "ipython",
    "version": 3
   },
   "file_extension": ".py",
   "mimetype": "text/x-python",
   "name": "python",
   "nbconvert_exporter": "python",
   "pygments_lexer": "ipython3",
   "version": "3.12.4"
  }
 },
 "nbformat": 4,
 "nbformat_minor": 5
}
