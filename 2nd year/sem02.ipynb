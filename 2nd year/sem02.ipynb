{
 "cells": [
  {
   "cell_type": "markdown",
   "id": "8797b85f-44e6-4d7f-a2fe-f129e6424b2b",
   "metadata": {},
   "source": [
    "#### Задача 1 (3 балла). \n",
    "\n",
    "Разовьем тему с бойцами. Напишите игру (можно взять свой старый код в качестве базы), где игроку будет предложено выбрать класс героя: волшебник или боец. Вы должны учесть возможность добавления новых игровых классов (используйте наследование). У волшебника и бойца немного разные атрибуты (можно атрибуты сделать одинаковые в классе-родителе, но разные коэффициенты в классах-детях, на которые они домножаются: например, здоровье волшебника будет 1.0 от стандартного значения, а здоровье бойца - 1.5, а с маной наоборот). Также у них будут разные методы \"нанести удар\" и, если хотите, приветствия. Также у нашего героя, кем бы он ни был, должен быть рюкзак, в котором можно рыться и хранить ограниченный набор вещей (в частности, там хранятся зелья: по умолчанию пусть в начале игры каждому персонажу дается по три зелья). Наконец, нужен класс для противника: можете придумать любого монстра (тоже с возможностью добавления новых монстров, очевидно), с которым герой будет сражаться. Во время сражения неплохо предоставлять игроку выбор вида \"нанести удар - выпить зелье\", а сам урон от удара можно немного рандомизировать с помощью одноименного модуля. Можно еще реализовать и метод sleep для мирного времени, но во время боя он, конечно, не понадобится. "
   ]
  },
  {
   "cell_type": "code",
   "execution_count": 28,
   "id": "a73365f6",
   "metadata": {},
   "outputs": [],
   "source": [
    "from random import randint\n",
    "from time import sleep"
   ]
  },
  {
   "cell_type": "code",
   "execution_count": 27,
   "id": "f0734411",
   "metadata": {},
   "outputs": [],
   "source": [
    "class Hero():\n",
    "    def __init__(self, name):\n",
    "        self.name = name\n",
    "        self.health = 1000\n",
    "        self.mana = 500\n",
    "        self.backpack = Backpack()\n",
    "        self.weapon = None\n",
    "        self.backpack.add_item('Зелье', 3)\n",
    "        # self.backpack.add_item('Оружие', 1)\n",
    "    \n",
    "    def attack(self):\n",
    "        damage = randint(10, 100)\n",
    "        if self.equipped_weapon:\n",
    "            weapon_damage = self.equipped_weapon.damage\n",
    "        else:\n",
    "            weapon_damage = 0\n",
    "        total_damage = damage + weapon_damage\n",
    "        print(f'...')\n",
    "        return total_damage\n",
    "    \n",
    "    def equip_weapon(self, weapon):\n",
    "        self.equipped_weapon = weapon\n",
    "        return f'...'\n",
    "    \n",
    "    def sleep(self):\n",
    "        n = randint(1, 8)\n",
    "        print(f'{self.name} спит...')\n",
    "        for i in range(n):\n",
    "            print('z' * randint(2, 6))\n",
    "            sleep(1)\n",
    "        self.health += 100 * (n / 100)\n",
    "        self.mana += 50 * (n / 100)\n",
    "        return f'...'\n"
   ]
  },
  {
   "cell_type": "code",
   "execution_count": null,
   "id": "775713ef",
   "metadata": {},
   "outputs": [],
   "source": [
    "class Wizard(Hero):\n",
    "    def __init__(self, name):\n",
    "        super().__init__(name)\n",
    "        self.mana *= 1.5\n",
    "    \n",
    "    def attack(self):\n",
    "        ...\n",
    "    \n",
    "    def greet(self):\n",
    "        return f''"
   ]
  },
  {
   "cell_type": "code",
   "execution_count": null,
   "id": "2dcdecd3",
   "metadata": {},
   "outputs": [],
   "source": [
    "class Warrior(Hero):\n",
    "    def __init__(self, name):\n",
    "        super().__init__(name)\n",
    "        self.health *= 1.5\n",
    "\n",
    "    def attack(self):\n",
    "        ...\n",
    "    \n",
    "    def greet(self):\n",
    "        return f''"
   ]
  },
  {
   "cell_type": "code",
   "execution_count": null,
   "id": "37fd599b",
   "metadata": {},
   "outputs": [],
   "source": [
    "class Being:\n",
    "    pass"
   ]
  },
  {
   "cell_type": "code",
   "execution_count": null,
   "id": "53089ac6",
   "metadata": {},
   "outputs": [],
   "source": [
    "class Monster(Being):\n",
    "    pass"
   ]
  },
  {
   "cell_type": "code",
   "execution_count": 26,
   "id": "427a794a",
   "metadata": {},
   "outputs": [],
   "source": [
    "class Backpack:\n",
    "    def __init__(self):\n",
    "        self.items = {}\n",
    "    \n",
    "    def add_item(self, item_name):\n",
    "        ...\n",
    "    \n",
    "    def remove_item(self, item_name):\n",
    "        ...\n",
    "    "
   ]
  },
  {
   "cell_type": "code",
   "execution_count": null,
   "id": "24e7cf84",
   "metadata": {},
   "outputs": [],
   "source": [
    "class Game():\n",
    "    def __init__(self):\n",
    "        self.hero = None"
   ]
  },
  {
   "cell_type": "markdown",
   "id": "c2d5d682-790a-482b-aa2a-211341aa0d76",
   "metadata": {},
   "source": [
    "#### Задача 2 (3 балла). \n",
    "\n",
    "Вспомним задачу токенизации. Напишите собственный простенький токенизатор (с самим процессом можно не сильно заморачиваться), который будет создавать генератор с объектами класса Token, у которых будет атрибут text и атрибут category (латинское слово, кириллическое слово или пунктуация). Токенизатор должен быть реализован в классе, у которого должна быть (генераторная) функция tokenize(). Вам понадобится отдельный класс для токенов и re.finditer(). "
   ]
  },
  {
   "cell_type": "code",
   "execution_count": 4,
   "id": "81abb7f0-159a-47bb-bd4c-4411d0aa3fac",
   "metadata": {},
   "outputs": [],
   "source": [
    "import re"
   ]
  },
  {
   "cell_type": "code",
   "execution_count": 14,
   "id": "e5449226",
   "metadata": {},
   "outputs": [],
   "source": [
    "class Token:\n",
    "    def __init__(self, text, category):\n",
    "        self.text = text\n",
    "        self.category = category\n",
    "    \n",
    "    def __str__(self):\n",
    "        return f\"Token(токен='{self.text}', категория='{self.category}')\""
   ]
  },
  {
   "cell_type": "code",
   "execution_count": 24,
   "id": "517752b5",
   "metadata": {},
   "outputs": [],
   "source": [
    "class Tokenizer:\n",
    "    def __init__(self, text):\n",
    "        self.text = text\n",
    "        self.compiled_regexp = re.compile(r'(?P<латиница>[a-zA-Z]+)|(?P<кириллица>[а-яА-ЯёЁ]+)|(?P<пунктуация>[^\\w\\s])') # <...> - именованные группы для определения латиницы, кириллицы и пунктуации\n",
    "        \n",
    "    def tokenize(self):\n",
    "\n",
    "        for match in re.finditer(self.compiled_regexp, self.text): # итерируемся по каждому найденному совпадению по шаблону\n",
    "            for category in match.groupdict(): # итерируемся по именованным группам регулярки\n",
    "                if match.group(category): # проверяем, имеется ли текущая именованная группа (категория) в найденном шаблоне\n",
    "                    yield Token(match.group(category), category)"
   ]
  },
  {
   "cell_type": "code",
   "execution_count": 25,
   "id": "ccb4c3c5",
   "metadata": {},
   "outputs": [
    {
     "name": "stdout",
     "output_type": "stream",
     "text": [
      "Token(токен='Это', категория='кириллица')\n",
      "Token(токен='тестовый', категория='кириллица')\n",
      "Token(токен='текст', категория='кириллица')\n",
      "Token(токен='.', категория='пунктуация')\n"
     ]
    }
   ],
   "source": [
    "text = input('Введите текст: ')\n",
    "tokenizer = Tokenizer(text)\n",
    "\n",
    "for token in tokenizer.tokenize():\n",
    "    print(token)"
   ]
  }
 ],
 "metadata": {
  "kernelspec": {
   "display_name": "Python 3 (ipykernel)",
   "language": "python",
   "name": "python3"
  },
  "language_info": {
   "codemirror_mode": {
    "name": "ipython",
    "version": 3
   },
   "file_extension": ".py",
   "mimetype": "text/x-python",
   "name": "python",
   "nbconvert_exporter": "python",
   "pygments_lexer": "ipython3",
   "version": "3.12.4"
  }
 },
 "nbformat": 4,
 "nbformat_minor": 5
}
