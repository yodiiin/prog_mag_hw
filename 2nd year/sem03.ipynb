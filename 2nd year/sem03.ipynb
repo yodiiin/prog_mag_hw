{
 "cells": [
  {
   "cell_type": "markdown",
   "id": "db32c013-4ac6-4016-9d03-152520f73034",
   "metadata": {},
   "source": [
    "Единственная задача: обобщить написанный на семинаре код и сымитировать работу одного большого отдела ABBYY, в котором есть три маленьких подотдела с лингвистами, программистами и комплингом. То есть, что у нас должно быть реализовано:\n",
    "\n",
    "- родительский класс \"работник\"\n",
    "- базовые классы \"лингвист\", \"программист\" и \"компьютерный лингвист\"\n",
    "- у всех методы work\n",
    "- классы \"босс_лингвист\", \"босс_программист\" и \"босс_кл\", которые могут наследовать (с подмешиванием) от общего класса \"босс\"\n",
    "- у боссов в атрибутах сидят их подчиненные\n",
    "- босс подотдела получает квесты от менеджера главного отдела и принуждает сотрудников работать\n",
    "- в главном отделе есть метод для выдачи квестов\n",
    "- соответственно, используем как наследование, так и композицию с делегированием"
   ]
  },
  {
   "cell_type": "code",
   "execution_count": 1,
   "id": "f502f7a8",
   "metadata": {},
   "outputs": [],
   "source": [
    "from time import sleep\n",
    "from random import choice"
   ]
  },
  {
   "cell_type": "code",
   "execution_count": 49,
   "id": "503e417e-9789-42d7-95e3-b2f1917d63cf",
   "metadata": {},
   "outputs": [],
   "source": [
    "class Employee:\n",
    "    def __init__(self, name, surname):\n",
    "        self.name = name\n",
    "        self.surname = surname\n",
    "        self.salary = 350 \n",
    "        self.bankaccount = 0\n",
    "    \n",
    "    def work(self, *args):\n",
    "        raise NotImplementedError\n",
    "    \n",
    "    def show_bankaccount(self):\n",
    "        print(f'{self.name} {self.surname} has {self.bankaccount}$')"
   ]
  },
  {
   "cell_type": "code",
   "execution_count": 73,
   "id": "8c7b1db3",
   "metadata": {},
   "outputs": [],
   "source": [
    "class Linguist:\n",
    "    def __init__(self, name, surname):\n",
    "        self.employee = Employee(name, surname)\n",
    "        self.employee.salary *= 1.5\n",
    "        self.publications = []\n",
    "    \n",
    "    def __repr__(self):\n",
    "        return f\"Linguist({self.name}, {self.surname})\"\n",
    "    \n",
    "    def work(self, hours, publ):\n",
    "        print('Working...')\n",
    "        sleep(hours)\n",
    "        self.employee.bankaccount += self.employee.salary * hours\n",
    "        self.publications.append(publ)\n",
    "        print(f'{self.name} {self.surname} has published «{publ}».')\n",
    "    \n",
    "    def readpaper(self, paper):\n",
    "        print('Reading...')\n",
    "        sleep(3)\n",
    "        print(f'{self.name} {self.surname} is reading «{paper}».')\n",
    "    \n",
    "    def __getattr__(self, attr):\n",
    "        return getattr(self.employee, attr)\n",
    "    \n",
    "    def __setattr__(self, attr, value):\n",
    "        self.__dict__[attr] = value"
   ]
  },
  {
   "cell_type": "code",
   "execution_count": 51,
   "id": "ab76debf",
   "metadata": {},
   "outputs": [],
   "source": [
    "class Programmer:\n",
    "    def __init__(self, name, surname):\n",
    "        self.employee = Employee(name, surname)\n",
    "        self.employee.salary *= 2\n",
    "        self.projects = []\n",
    "\n",
    "    def __repr__(self):\n",
    "        return f\"Programmer({self.name}, {self.surname})\"\n",
    "\n",
    "    def work(self, hours, project):\n",
    "        print('Working...')\n",
    "        sleep(hours)\n",
    "        self.employee.bankaccount += self.employee.salary * hours\n",
    "        self.projects.append(project)\n",
    "    \n",
    "    def studylanguage(self, language):\n",
    "        print('Studying...')\n",
    "        sleep(3)\n",
    "        print(f'{self.name} is learning {language}.')\n",
    "\n",
    "    def __getattr__(self, attr):\n",
    "        return getattr(self.employee, attr)\n",
    "    \n",
    "    def __setattr__(self, attr, value):\n",
    "        self.__dict__[attr] = value"
   ]
  },
  {
   "cell_type": "code",
   "execution_count": 74,
   "id": "698ecb66",
   "metadata": {},
   "outputs": [],
   "source": [
    "class ComputationalLingust(Linguist, Programmer):\n",
    "    def __init__(self, name, surname):\n",
    "        for base in self.__class__.__bases__:\n",
    "            base.__init__(self, name, surname)\n",
    "        self.employee.salary *= 1.8\n",
    "\n",
    "    def __repr__(self):\n",
    "        return f\"ComputationalLinguist({self.name}, {self.surname})\"\n",
    "\n",
    "    def work(self, hours, cl_project):\n",
    "        print('Working...')\n",
    "        sleep(hours)\n",
    "        self.projects.append(cl_project)\n",
    "        self.publications.append(cl_project)\n",
    "        self.employee.bankaccount += self.employee.salary * hours\n",
    "        print(f'{self.name} {self.surname} has published «{cl_project}» in ACL Papers.')\n",
    "\n",
    "    def __getattr__(self, attr):\n",
    "        return getattr(self.employee, attr)\n",
    "    \n",
    "    def __setattr__(self, attr, value):\n",
    "        self.__dict__[attr] = value"
   ]
  },
  {
   "cell_type": "code",
   "execution_count": 53,
   "id": "cbef86e2",
   "metadata": {},
   "outputs": [],
   "source": [
    "class Boss:\n",
    "    def __init__(self, *args):\n",
    "        self.members = list(args)\n",
    "    \n",
    "    def __repr__(self):\n",
    "        members_info = ', '.join([f\"{member.name} {member.surname}\" for member in self.members])\n",
    "        return f\"{self.__class__.__name__}({members_info})\"\n",
    "    \n",
    "    def assign_task(self, *args):\n",
    "        raise NotImplementedError"
   ]
  },
  {
   "cell_type": "code",
   "execution_count": 54,
   "id": "81a06c6c",
   "metadata": {},
   "outputs": [],
   "source": [
    "class LingBoss(Boss):\n",
    "    def __init__(self, *args):\n",
    "        Boss.__init__(self, *args)\n",
    "    \n",
    "    def assign_task(self, task, hours):\n",
    "        print(f'Boss of Linguistics department has assinged a task: {task}')\n",
    "        for linguist in self.members:\n",
    "            linguist.work(hours, task)"
   ]
  },
  {
   "cell_type": "code",
   "execution_count": 55,
   "id": "2f9dacbe",
   "metadata": {},
   "outputs": [],
   "source": [
    "class ProgBoss(Boss):\n",
    "    def __init__(self, *args):\n",
    "        Boss.__init__(self, *args)\n",
    "\n",
    "    def assign_task(self, task, hours):\n",
    "        print(f'Boss of Programming department has assinged a task: {task}')\n",
    "        for programmer in self.members:\n",
    "            programmer.work(hours, task)"
   ]
  },
  {
   "cell_type": "code",
   "execution_count": 56,
   "id": "acd76c29",
   "metadata": {},
   "outputs": [],
   "source": [
    "class CLBoss(Boss):\n",
    "    def __init__(self, *args):\n",
    "        Boss.__init__(self, *args)\n",
    "\n",
    "    def assign_task(self, task, hours):\n",
    "        print(f'Boss of Computational Linguistics department has assinged a task: {task}')\n",
    "        for compling in self.members:\n",
    "            compling.work(hours, task)"
   ]
  },
  {
   "cell_type": "code",
   "execution_count": 57,
   "id": "6bb26845",
   "metadata": {},
   "outputs": [],
   "source": [
    "class MainDepartment:\n",
    "    def __init__(self, lingboss, progboss, clboss):\n",
    "        \"\"\"Это непосредственно атрибуты класса MainDepartment, в которых\n",
    "        будут храниться экземпляры классов-боссов\"\"\"\n",
    "        self.lingboss = lingboss\n",
    "        self.progboss = progboss\n",
    "        self.clboss = clboss\n",
    "    \n",
    "    def assign_quest(self, department, hours, task):\n",
    "        if department == 'linguistics':\n",
    "            self.lingboss.assign_task(hours, task)\n",
    "        elif department == 'programming':\n",
    "            self.progboss.assign_task(hours, task)\n",
    "        elif department == 'compling':\n",
    "            self.clboss.assign_task(hours, task)"
   ]
  },
  {
   "cell_type": "code",
   "execution_count": 58,
   "id": "6d44712a",
   "metadata": {},
   "outputs": [],
   "source": [
    "l1 = Linguist('Yakov', 'Testelets')\n",
    "l2 = Linguist('Irina', 'Gorbunova')\n",
    "l3 = Linguist('Martin', 'Haspelmath')"
   ]
  },
  {
   "cell_type": "code",
   "execution_count": 59,
   "id": "544cfaa1",
   "metadata": {},
   "outputs": [],
   "source": [
    "p1 = Programmer('Steve', 'Jobs')\n",
    "p2 = Programmer('Linus', 'Torvalds')\n",
    "p3 = Programmer('Mark', 'Zuckerberg')"
   ]
  },
  {
   "cell_type": "code",
   "execution_count": 60,
   "id": "60c21664",
   "metadata": {},
   "outputs": [],
   "source": [
    "cl1 = ComputationalLingust('Alexandra', 'Ivoylova')\n",
    "cl2 = ComputationalLingust('Maria', 'Petrova')"
   ]
  },
  {
   "cell_type": "code",
   "execution_count": 61,
   "id": "c6fdb0a2",
   "metadata": {},
   "outputs": [],
   "source": [
    "lingboss = LingBoss(l1, l2, l3)"
   ]
  },
  {
   "cell_type": "code",
   "execution_count": 62,
   "id": "2429657c",
   "metadata": {},
   "outputs": [
    {
     "data": {
      "text/plain": [
       "LingBoss(Yakov Testelets, Irina Gorbunova, Martin Haspelmath)"
      ]
     },
     "execution_count": 62,
     "metadata": {},
     "output_type": "execute_result"
    }
   ],
   "source": [
    "lingboss"
   ]
  },
  {
   "cell_type": "code",
   "execution_count": 63,
   "id": "41dd6778",
   "metadata": {},
   "outputs": [
    {
     "data": {
      "text/plain": [
       "420.0"
      ]
     },
     "execution_count": 63,
     "metadata": {},
     "output_type": "execute_result"
    }
   ],
   "source": [
    "l1.salary"
   ]
  },
  {
   "cell_type": "code",
   "execution_count": 64,
   "id": "8d1ae688",
   "metadata": {},
   "outputs": [
    {
     "name": "stdout",
     "output_type": "stream",
     "text": [
      "420.0\n",
      "420.0\n",
      "420.0\n"
     ]
    }
   ],
   "source": [
    "for member in lingboss.members:\n",
    "    print(member.salary)"
   ]
  },
  {
   "cell_type": "code",
   "execution_count": 65,
   "id": "2d3d949b",
   "metadata": {},
   "outputs": [
    {
     "data": {
      "text/plain": [
       "ProgBoss(Steve Jobs, Linus Torvalds, Mark Zuckerberg)"
      ]
     },
     "execution_count": 65,
     "metadata": {},
     "output_type": "execute_result"
    }
   ],
   "source": [
    "progboss = ProgBoss(p1, p2, p3)\n",
    "progboss"
   ]
  },
  {
   "cell_type": "code",
   "execution_count": 66,
   "id": "f8c9ac0e",
   "metadata": {},
   "outputs": [
    {
     "data": {
      "text/plain": [
       "CLBoss(Alexandra Ivoylova, Maria Petrova)"
      ]
     },
     "execution_count": 66,
     "metadata": {},
     "output_type": "execute_result"
    }
   ],
   "source": [
    "clboss = CLBoss(cl1, cl2)\n",
    "clboss"
   ]
  },
  {
   "cell_type": "code",
   "execution_count": 67,
   "id": "34d3f0b5",
   "metadata": {},
   "outputs": [],
   "source": [
    "main_department = MainDepartment(lingboss, progboss, clboss)"
   ]
  },
  {
   "cell_type": "code",
   "execution_count": 68,
   "id": "d6e29894",
   "metadata": {},
   "outputs": [
    {
     "name": "stdout",
     "output_type": "stream",
     "text": [
      "Boss of Linguistics department has assinged a task: Generative Pholonogy\n",
      "Working...\n",
      "Yakov Testelets has published «Generative Pholonogy».\n",
      "Working...\n",
      "Irina Gorbunova has published «Generative Pholonogy».\n",
      "Working...\n",
      "Martin Haspelmath has published «Generative Pholonogy».\n"
     ]
    }
   ],
   "source": [
    "main_department.assign_quest('linguistics', 'Generative Pholonogy', 4)"
   ]
  },
  {
   "cell_type": "code",
   "execution_count": 72,
   "metadata": {},
   "outputs": [
    {
     "name": "stdout",
     "output_type": "stream",
     "text": [
      "Yakov Testelets has 1680.0$\n",
      "Irina Gorbunova has 1680.0$\n",
      "Martin Haspelmath has 1680.0$\n"
     ]
    }
   ],
   "source": [
    "for member in lingboss.members:\n",
    "    member.show_bankaccount()"
   ]
  },
  {
   "cell_type": "code",
   "execution_count": 70,
   "id": "aba3a1de",
   "metadata": {},
   "outputs": [
    {
     "name": "stdout",
     "output_type": "stream",
     "text": [
      "Boss of Computational Linguistics department has assinged a task: Automatic semantic segmentation\n",
      "Working...\n",
      "Alexandra Ivoylova has published «Automatic semantic segmentation» in ACL Papers.\n",
      "Working...\n",
      "Maria Petrova has published «Automatic semantic segmentation» in ACL Papers.\n"
     ]
    }
   ],
   "source": [
    "main_department.assign_quest('compling', 'Automatic semantic segmentation', 5)"
   ]
  },
  {
   "cell_type": "code",
   "execution_count": 71,
   "id": "71f7244b",
   "metadata": {},
   "outputs": [
    {
     "name": "stdout",
     "output_type": "stream",
     "text": [
      "Alexandra Ivoylova has 6125.0$\n",
      "Maria Petrova has 6125.0$\n"
     ]
    }
   ],
   "source": [
    "for member in clboss.members:\n",
    "    member.show_bankaccount()"
   ]
  }
 ],
 "metadata": {
  "kernelspec": {
   "display_name": "Python 3",
   "language": "python",
   "name": "python3"
  },
  "language_info": {
   "codemirror_mode": {
    "name": "ipython",
    "version": 3
   },
   "file_extension": ".py",
   "mimetype": "text/x-python",
   "name": "python",
   "nbconvert_exporter": "python",
   "pygments_lexer": "ipython3",
   "version": "3.12.4"
  }
 },
 "nbformat": 4,
 "nbformat_minor": 5
}
